{
 "cells": [
  {
   "cell_type": "markdown",
   "metadata": {},
   "source": [
    "# Traffic sign recognition using Tensorflow "
   ]
  },
  {
   "cell_type": "markdown",
   "metadata": {},
   "source": [
    "For training I am using German sign dataset which can be found here: http://benchmark.ini.rub.de/"
   ]
  },
  {
   "cell_type": "code",
   "execution_count": 20,
   "metadata": {},
   "outputs": [],
   "source": [
    "import os\n",
    "import csv\n",
    "import skimage.data\n",
    "import skimage.transform\n",
    "import matplotlib\n",
    "import matplotlib.pyplot as plt\n",
    "import numpy as np\n",
    "import tensorflow as tf"
   ]
  },
  {
   "cell_type": "markdown",
   "metadata": {},
   "source": [
    "Setting path to train and test data."
   ]
  },
  {
   "cell_type": "code",
   "execution_count": 5,
   "metadata": {},
   "outputs": [],
   "source": [
    "ROOT_PATH = \"./datasets\"\n",
    "TRAIN_DATA_DIR = os.path.join(ROOT_PATH, \"training_images/Final_Training/Images/\")\n",
    "TEST_DATA_DIR = os.path.join(ROOT_PATH, \"testing_dataset/Final_Test/Images/\")\n",
    "IMAGE_WIDTH = 32\n",
    "IMAGE_LENGTH = 32"
   ]
  },
  {
   "cell_type": "markdown",
   "metadata": {},
   "source": [
    "Loading train data."
   ]
  },
  {
   "cell_type": "code",
   "execution_count": 6,
   "metadata": {},
   "outputs": [],
   "source": [
    "def load_train_data(data_dir):\n",
    "    directories = [d for d in os.listdir(data_dir)\n",
    "                  if os.path.isdir(os.path.join(data_dir, d))]\n",
    "    labels = []\n",
    "    images = []\n",
    "    for d in directories:\n",
    "        path = data_dir + d + '/'\n",
    "        csv_file = open(path + 'GT-' + d + '.csv')\n",
    "        temp_labels, temp_images = get_data(csv_file, path)\n",
    "        labels += temp_labels\n",
    "        images += temp_images\n",
    "        \n",
    "    return labels, images"
   ]
  },
  {
   "cell_type": "markdown",
   "metadata": {},
   "source": [
    "Loading test data."
   ]
  },
  {
   "cell_type": "code",
   "execution_count": 7,
   "metadata": {},
   "outputs": [],
   "source": [
    "def load_test_data(data_dir):\n",
    "    csv_file = open(data_dir + 'GT-final_test.csv')\n",
    "        \n",
    "    return get_data(csv_file, data_dir)"
   ]
  },
  {
   "cell_type": "code",
   "execution_count": 8,
   "metadata": {},
   "outputs": [],
   "source": [
    "def get_data(csv_file, path):\n",
    "    images = []\n",
    "    labels = []\n",
    "    reader = csv.reader(csv_file, delimiter=';')\n",
    "    reader.next()\n",
    "    for row in reader:\n",
    "        images.append(skimage.transform.resize(plt.imread(path + row[0]), (IMAGE_WIDTH, IMAGE_LENGTH)))\n",
    "        labels.append(int(row[7]))\n",
    "    csv_file.close()\n",
    "    return labels, images"
   ]
  },
  {
   "cell_type": "code",
   "execution_count": 9,
   "metadata": {},
   "outputs": [],
   "source": [
    "labels, images = load_train_data(TRAIN_DATA_DIR)\n",
    "test_labels, test_images = load_test_data(TEST_DATA_DIR)"
   ]
  },
  {
   "cell_type": "code",
   "execution_count": 10,
   "metadata": {},
   "outputs": [
    {
     "name": "stdout",
     "output_type": "stream",
     "text": [
      "Total training images 42890\n",
      "Total testing images 12630\n"
     ]
    }
   ],
   "source": [
    "print(\"Total training images {0}\".format(len(images)))\n",
    "print(\"Total testing images {0}\".format(len(test_images)))"
   ]
  },
  {
   "cell_type": "markdown",
   "metadata": {},
   "source": [
    "Creating bar chart for dataset Visualization."
   ]
  },
  {
   "cell_type": "code",
   "execution_count": null,
   "metadata": {},
   "outputs": [],
   "source": [
    "data = {x:labels.count(x) for x in labels}.values()\n",
    "\n",
    "plt.figure(figsize=(20, 10))\n",
    "\n",
    "y_pos = np.arange(len(data))\n",
    "\n",
    "plt.bar(y_pos, data, align='center', alpha = 0.5)\n",
    "plt.xticks(y_pos, y_pos)\n",
    "plt.axis('tight')\n",
    "plt.ylabel(\"Number of examples\")\n",
    "plt.title(\"Training dataset\")\n",
    "plt.show()"
   ]
  },
  {
   "cell_type": "markdown",
   "metadata": {},
   "source": [
    "Resize and normalize images."
   ]
  },
  {
   "cell_type": "code",
   "execution_count": null,
   "metadata": {},
   "outputs": [],
   "source": [
    "def normalize(image):\n",
    "    return (image - image.min()) / (image.max() - image.min())"
   ]
  },
  {
   "cell_type": "markdown",
   "metadata": {},
   "source": [
    "Difference between normal image and a normalized one."
   ]
  },
  {
   "cell_type": "code",
   "execution_count": null,
   "metadata": {},
   "outputs": [],
   "source": [
    "plt.figure(figsize = (10, 10))\n",
    "plt.subplot(1, 2, 1)\n",
    "plt.axis('off')\n",
    "plt.title(\"Normal image\")  \n",
    "plt.imshow(images[1800])\n",
    "plt.subplot(1, 2, 2)\n",
    "plt.axis('off')\n",
    "plt.title(\"Normalized image\")\n",
    "plt.imshow(normalize(images[1800]))\n",
    "plt.show()"
   ]
  },
  {
   "cell_type": "code",
   "execution_count": 11,
   "metadata": {},
   "outputs": [],
   "source": [
    "with tf.device('/device:GPU:0'):\n",
    "    images_ph = tf.placeholder(tf.float32, [None, IMAGE_WIDTH, IMAGE_LENGTH, 3], name = \"images_ph\")\n",
    "    labels_ph = tf.placeholder(tf.int64, [None])\n",
    "\n",
    "    images_flat = tf.contrib.layers.flatten(images_ph)\n",
    "\n",
    "    logits = tf.contrib.layers.fully_connected(images_flat, len(set(labels)), tf.nn.elu)\n",
    "\n",
    "    predicted = tf.nn.softmax(logits)\n",
    "    predicted_labels = tf.argmax(predicted, 1, name=\"prediction\")\n",
    "   \n",
    "    cross_entropy = tf.nn.sparse_softmax_cross_entropy_with_logits(logits = logits,\n",
    "                                                                   labels = labels_ph)\n",
    "    loss = tf.reduce_mean(cross_entropy)\n",
    "\n",
    "    optimizer = tf.train.AdamOptimizer(learning_rate=0.001).minimize(loss)\n",
    "\n",
    "    correct_prediction = tf.equal(predicted_labels, labels_ph)\n",
    "    accuracy = tf.reduce_mean(tf.cast(correct_prediction, tf.float32))\n",
    "\n",
    "    init = tf.global_variables_initializer()"
   ]
  },
  {
   "cell_type": "code",
   "execution_count": 12,
   "metadata": {},
   "outputs": [],
   "source": [
    "saver = tf.train.Saver()\n",
    "session = tf.Session()\n",
    "session.run(init)"
   ]
  },
  {
   "cell_type": "code",
   "execution_count": 14,
   "metadata": {},
   "outputs": [],
   "source": [
    "labels_arr = np.array(labels)\n",
    "images_arr = np.array(images)"
   ]
  },
  {
   "cell_type": "code",
   "execution_count": 15,
   "metadata": {},
   "outputs": [],
   "source": [
    "feed_dict_train = {images_ph: images_arr,\n",
    "             labels_ph: labels_arr}\n",
    "feed_dict_test = {images_ph: test_images,\n",
    "             labels_ph: test_labels}"
   ]
  },
  {
   "cell_type": "code",
   "execution_count": 17,
   "metadata": {},
   "outputs": [
    {
     "name": "stdout",
     "output_type": "stream",
     "text": [
      "('Loss: ', [None, 3.918751])\n",
      "('Loss: ', [None, 3.1980357])\n",
      "('Loss: ', [None, 2.9128506])\n",
      "('Loss: ', [None, 2.6995668])\n",
      "('Loss: ', [None, 2.5396926])\n",
      "('Loss: ', [None, 2.4162591])\n",
      "('Loss: ', [None, 2.3168328])\n",
      "('Loss: ', [None, 2.2327266])\n",
      "('Loss: ', [None, 2.1568301])\n",
      "('Loss: ', [None, 2.0883188])\n",
      "('Loss: ', [None, 2.0276327])\n",
      "('Loss: ', [None, 1.9736047])\n",
      "('Loss: ', [None, 1.9248583])\n",
      "('Loss: ', [None, 1.8806278])\n",
      "('Loss: ', [None, 1.8401241])\n",
      "('Loss: ', [None, 1.79357])\n",
      "('Loss: ', [None, 1.7509197])\n",
      "('Loss: ', [None, 1.7145026])\n",
      "('Loss: ', [None, 1.6817114])\n",
      "('Loss: ', [None, 1.6520028])\n",
      "('Loss: ', [None, 1.6243144])\n",
      "('Loss: ', [None, 1.5974531])\n",
      "('Loss: ', [None, 1.5727818])\n",
      "('Loss: ', [None, 1.5494262])\n",
      "('Loss: ', [None, 1.5273693])\n",
      "('Loss: ', [None, 1.5065006])\n",
      "('Loss: ', [None, 1.4866126])\n",
      "('Loss: ', [None, 1.4673597])\n",
      "('Loss: ', [None, 1.4483916])\n",
      "('Loss: ', [None, 1.4303248])\n",
      "('Loss: ', [None, 1.4132693])\n",
      "('Loss: ', [None, 1.3967917])\n",
      "('Loss: ', [None, 1.3715771])\n",
      "('Loss: ', [None, 1.3523036])\n",
      "('Loss: ', [None, 1.3342528])\n",
      "('Loss: ', [None, 1.3183243])\n",
      "('Loss: ', [None, 1.3036422])\n",
      "('Loss: ', [None, 1.2899789])\n",
      "('Loss: ', [None, 1.2770151])\n",
      "('Loss: ', [None, 1.2646374])\n",
      "('Loss: ', [None, 1.2527676])\n",
      "('Loss: ', [None, 1.2413474])\n",
      "('Loss: ', [None, 1.2303325])\n",
      "('Loss: ', [None, 1.2196879])\n",
      "('Loss: ', [None, 1.2093812])\n",
      "('Loss: ', [None, 1.1993794])\n",
      "('Loss: ', [None, 1.1896408])\n",
      "('Loss: ', [None, 1.1800975])\n",
      "('Loss: ', [None, 1.170171])\n",
      "('Loss: ', [None, 1.1526264])\n",
      "('Loss: ', [None, 1.1305444])\n",
      "('Loss: ', [None, 1.1164517])\n",
      "('Loss: ', [None, 1.1020927])\n",
      "('Loss: ', [None, 1.0887982])\n",
      "('Loss: ', [None, 1.0778711])\n",
      "('Loss: ', [None, 1.0679212])\n",
      "('Loss: ', [None, 1.0586011])\n",
      "('Loss: ', [None, 1.0497694])\n",
      "('Loss: ', [None, 1.041361])\n",
      "('Loss: ', [None, 1.0333043])\n",
      "('Loss: ', [None, 1.025545])\n",
      "('Loss: ', [None, 1.0180606])\n",
      "('Loss: ', [None, 1.0108339])\n",
      "('Loss: ', [None, 1.003841])\n",
      "('Loss: ', [None, 0.99706161])\n",
      "('Loss: ', [None, 0.99047863])\n",
      "('Loss: ', [None, 0.98407745])\n",
      "('Loss: ', [None, 0.97784555])\n",
      "('Loss: ', [None, 0.97177243])\n",
      "('Loss: ', [None, 0.96584916])\n",
      "('Loss: ', [None, 0.96006733])\n",
      "('Loss: ', [None, 0.95441985])\n",
      "('Loss: ', [None, 0.94890016])\n",
      "('Loss: ', [None, 0.94350243])\n",
      "('Loss: ', [None, 0.93822151])\n",
      "('Loss: ', [None, 0.93305224])\n",
      "('Loss: ', [None, 0.92798984])\n",
      "('Loss: ', [None, 0.92303038])\n",
      "('Loss: ', [None, 0.91816968])\n",
      "('Loss: ', [None, 0.91340393])\n",
      "('Loss: ', [None, 0.90872973])\n",
      "('Loss: ', [None, 0.90414369])\n",
      "('Loss: ', [None, 0.899643])\n",
      "('Loss: ', [None, 0.89522451])\n",
      "('Loss: ', [None, 0.89088583])\n",
      "('Loss: ', [None, 0.88662422])\n",
      "('Loss: ', [None, 0.88243711])\n",
      "('Loss: ', [None, 0.87832224])\n",
      "('Loss: ', [None, 0.87427723])\n",
      "('Loss: ', [None, 0.87030011])\n",
      "('Loss: ', [None, 0.86638874])\n",
      "('Loss: ', [None, 0.86254108])\n",
      "('Loss: ', [None, 0.85875529])\n",
      "('Loss: ', [None, 0.85502958])\n",
      "('Loss: ', [None, 0.85136229])\n",
      "('Loss: ', [None, 0.84775186])\n",
      "('Loss: ', [None, 0.84419662])\n",
      "('Loss: ', [None, 0.84069514])\n",
      "('Loss: ', [None, 0.83724606])\n",
      "('Loss: ', [None, 0.83384812])\n",
      "('Loss: ', [None, 0.83049989])\n",
      "('Loss: ', [None, 0.82720011])\n",
      "('Loss: ', [None, 0.82394743])\n",
      "('Loss: ', [None, 0.82074082])\n",
      "('Loss: ', [None, 0.81757903])\n",
      "('Loss: ', [None, 0.81446105])\n",
      "('Loss: ', [None, 0.81138569])\n",
      "('Loss: ', [None, 0.80835205])\n",
      "('Loss: ', [None, 0.80535901])\n",
      "('Loss: ', [None, 0.80240566])\n",
      "('Loss: ', [None, 0.79949105])\n",
      "('Loss: ', [None, 0.79661435])\n",
      "('Loss: ', [None, 0.7937746])\n",
      "('Loss: ', [None, 0.79097092])\n",
      "('Loss: ', [None, 0.78820258])\n",
      "('Loss: ', [None, 0.78546882])\n",
      "('Loss: ', [None, 0.78276867])\n",
      "('Loss: ', [None, 0.78010172])\n",
      "('Loss: ', [None, 0.77746677])\n",
      "('Loss: ', [None, 0.77486366])\n",
      "('Loss: ', [None, 0.77229142])\n",
      "('Loss: ', [None, 0.76974928])\n",
      "('Loss: ', [None, 0.76723671])\n",
      "('Loss: ', [None, 0.76475304])\n",
      "('Loss: ', [None, 0.76229775])\n",
      "('Loss: ', [None, 0.75987005])\n",
      "('Loss: ', [None, 0.75746959])\n",
      "('Loss: ', [None, 0.75509572])\n",
      "('Loss: ', [None, 0.75274789])\n",
      "('Loss: ', [None, 0.75042546])\n",
      "('Loss: ', [None, 0.748128])\n",
      "('Loss: ', [None, 0.74585497])\n",
      "('Loss: ', [None, 0.74360567])\n",
      "('Loss: ', [None, 0.74137962])\n",
      "('Loss: ', [None, 0.73917663])\n",
      "('Loss: ', [None, 0.73699635])\n",
      "('Loss: ', [None, 0.73483855])\n",
      "('Loss: ', [None, 0.73270273])\n",
      "('Loss: ', [None, 0.73058844])\n",
      "('Loss: ', [None, 0.7284953])\n",
      "('Loss: ', [None, 0.72642297])\n",
      "('Loss: ', [None, 0.72437084])\n",
      "('Loss: ', [None, 0.7223388])\n",
      "('Loss: ', [None, 0.72032624])\n",
      "('Loss: ', [None, 0.71833301])\n",
      "('Loss: ', [None, 0.71635854])\n",
      "('Loss: ', [None, 0.71440262])\n",
      "('Loss: ', [None, 0.71246475])\n",
      "('Loss: ', [None, 0.71054465])\n",
      "('Loss: ', [None, 0.70864201])\n",
      "('Loss: ', [None, 0.70675653])\n",
      "('Loss: ', [None, 0.70488775])\n",
      "('Loss: ', [None, 0.70303571])\n",
      "('Loss: ', [None, 0.70119983])\n",
      "('Loss: ', [None, 0.69938004])\n",
      "('Loss: ', [None, 0.69757611])\n",
      "('Loss: ', [None, 0.69578761])\n",
      "('Loss: ', [None, 0.69401437])\n",
      "('Loss: ', [None, 0.69225603])\n",
      "('Loss: ', [None, 0.69051236])\n",
      "('Loss: ', [None, 0.68878293])\n",
      "('Loss: ', [None, 0.68706763])\n",
      "('Loss: ', [None, 0.68536615])\n",
      "('Loss: ', [None, 0.68367845])\n",
      "('Loss: ', [None, 0.68200392])\n",
      "('Loss: ', [None, 0.6803425])\n",
      "('Loss: ', [None, 0.67869413])\n",
      "('Loss: ', [None, 0.67705846])\n",
      "('Loss: ', [None, 0.67543554])\n",
      "('Loss: ', [None, 0.67382526])\n",
      "('Loss: ', [None, 0.67222726])\n",
      "('Loss: ', [None, 0.67064154])\n",
      "('Loss: ', [None, 0.66906774])\n",
      "('Loss: ', [None, 0.66750574])\n",
      "('Loss: ', [None, 0.66595513])\n",
      "('Loss: ', [None, 0.66441602])\n",
      "('Loss: ', [None, 0.66288835])\n",
      "('Loss: ', [None, 0.66137218])\n",
      "('Loss: ', [None, 0.65986753])\n",
      "('Loss: ', [None, 0.65837437])\n",
      "('Loss: ', [None, 0.65689248])\n",
      "('Loss: ', [None, 0.65542156])\n",
      "('Loss: ', [None, 0.65396154])\n",
      "('Loss: ', [None, 0.65251213])\n",
      "('Loss: ', [None, 0.6510734])\n",
      "('Loss: ', [None, 0.64964515])\n",
      "('Loss: ', [None, 0.64822721])\n",
      "('Loss: ', [None, 0.64681953])\n",
      "('Loss: ', [None, 0.64542192])\n",
      "('Loss: ', [None, 0.64403433])\n",
      "('Loss: ', [None, 0.64265645])\n",
      "('Loss: ', [None, 0.64128828])\n",
      "('Loss: ', [None, 0.63992959])\n",
      "('Loss: ', [None, 0.63858032])\n",
      "('Loss: ', [None, 0.63724035])\n",
      "('Loss: ', [None, 0.6359098])\n",
      "('Loss: ', [None, 0.63458842])\n",
      "('Loss: ', [None, 0.63327616])\n",
      "('Loss: ', [None, 0.63197285])\n",
      "('Loss: ', [None, 0.63067842])\n",
      "('Loss: ', [None, 0.62939268])\n",
      "('Loss: ', [None, 0.62811559])\n",
      "('Loss: ', [None, 0.62684703])\n",
      "('Loss: ', [None, 0.62558687])\n",
      "('Loss: ', [None, 0.62433505])\n",
      "('Loss: ', [None, 0.6230914])\n",
      "('Loss: ', [None, 0.62185585])\n",
      "('Loss: ', [None, 0.62062824])\n",
      "('Loss: ', [None, 0.61940867])\n",
      "('Loss: ', [None, 0.61819685])\n",
      "('Loss: ', [None, 0.61699277])\n",
      "('Loss: ', [None, 0.61579627])\n",
      "('Loss: ', [None, 0.61460733])\n",
      "('Loss: ', [None, 0.61342585])\n",
      "('Loss: ', [None, 0.6122517])\n",
      "('Loss: ', [None, 0.61108488])\n",
      "('Loss: ', [None, 0.60992527])\n",
      "('Loss: ', [None, 0.6087727])\n",
      "('Loss: ', [None, 0.60762715])\n",
      "('Loss: ', [None, 0.60648865])\n",
      "('Loss: ', [None, 0.60535693])\n",
      "('Loss: ', [None, 0.60423195])\n",
      "('Loss: ', [None, 0.60311377])\n",
      "('Loss: ', [None, 0.6020022])\n",
      "('Loss: ', [None, 0.60089719])\n",
      "('Loss: ', [None, 0.59979874])\n",
      "('Loss: ', [None, 0.59870672])\n",
      "('Loss: ', [None, 0.59762102])\n",
      "('Loss: ', [None, 0.59654158])\n",
      "('Loss: ', [None, 0.59546822])\n",
      "('Loss: ', [None, 0.59440112])\n",
      "('Loss: ', [None, 0.59334004])\n",
      "('Loss: ', [None, 0.59228498])\n",
      "('Loss: ', [None, 0.59123588])\n",
      "('Loss: ', [None, 0.59019268])\n",
      "('Loss: ', [None, 0.58915538])\n",
      "('Loss: ', [None, 0.58812398])\n",
      "('Loss: ', [None, 0.58709818])\n",
      "('Loss: ', [None, 0.58607823])\n",
      "('Loss: ', [None, 0.58506382])\n",
      "('Loss: ', [None, 0.58405501])\n",
      "('Loss: ', [None, 0.58305168])\n",
      "('Loss: ', [None, 0.58205384])\n",
      "('Loss: ', [None, 0.58106148])\n",
      "('Loss: ', [None, 0.58007443])\n",
      "('Loss: ', [None, 0.57909268])\n",
      "('Loss: ', [None, 0.57811618])\n",
      "('Loss: ', [None, 0.57714486])\n",
      "('Loss: ', [None, 0.57617873])\n",
      "('Loss: ', [None, 0.57521766])\n",
      "('Loss: ', [None, 0.57426167])\n",
      "('Loss: ', [None, 0.57331061])\n",
      "('Loss: ', [None, 0.57236463])\n",
      "('Loss: ', [None, 0.57142347])\n",
      "('Loss: ', [None, 0.5704872])\n",
      "('Loss: ', [None, 0.56955582])\n",
      "('Loss: ', [None, 0.56862915])\n",
      "('Loss: ', [None, 0.5677073])\n",
      "('Loss: ', [None, 0.56679004])\n",
      "('Loss: ', [None, 0.56587744])\n",
      "('Loss: ', [None, 0.56496954])\n",
      "('Loss: ', [None, 0.56406605])\n",
      "('Loss: ', [None, 0.56316715])\n",
      "('Loss: ', [None, 0.56227273])\n",
      "('Loss: ', [None, 0.56138271])\n",
      "('Loss: ', [None, 0.56049705])\n",
      "('Loss: ', [None, 0.55961579])\n",
      "('Loss: ', [None, 0.55873883])\n"
     ]
    },
    {
     "name": "stdout",
     "output_type": "stream",
     "text": [
      "('Loss: ', [None, 0.55786604])\n",
      "('Loss: ', [None, 0.55699766])\n",
      "('Loss: ', [None, 0.55613327])\n",
      "('Loss: ', [None, 0.55527312])\n",
      "('Loss: ', [None, 0.55441707])\n",
      "('Loss: ', [None, 0.55356508])\n",
      "('Loss: ', [None, 0.55271715])\n",
      "('Loss: ', [None, 0.55187327])\n",
      "('Loss: ', [None, 0.55103314])\n",
      "('Loss: ', [None, 0.55019706])\n",
      "('Loss: ', [None, 0.54936486])\n",
      "('Loss: ', [None, 0.54853648])\n",
      "('Loss: ', [None, 0.54771197])\n",
      "('Loss: ', [None, 0.54689109])\n",
      "('Loss: ', [None, 0.54607403])\n",
      "('Loss: ', [None, 0.54526061])\n",
      "('Loss: ', [None, 0.54445088])\n",
      "('Loss: ', [None, 0.54364473])\n",
      "('Loss: ', [None, 0.54284215])\n",
      "('Loss: ', [None, 0.54204303])\n",
      "('Loss: ', [None, 0.54124755])\n",
      "('Loss: ', [None, 0.54045558])\n",
      "('Loss: ', [None, 0.53966695])\n",
      "('Loss: ', [None, 0.53888202])\n",
      "('Loss: ', [None, 0.53810036])\n",
      "('Loss: ', [None, 0.53732222])\n",
      "('Loss: ', [None, 0.53655469])\n",
      "('Loss: ', [None, 0.53585738])\n",
      "('Loss: ', [None, 0.53501284])\n",
      "('Loss: ', [None, 0.53425729])\n",
      "('Loss: ', [None, 0.53349131])\n",
      "('Loss: ', [None, 0.53273654])\n",
      "('Loss: ', [None, 0.53198433])\n",
      "Accuracy: 0.776\n"
     ]
    }
   ],
   "source": [
    "for i in range(3001):\n",
    "    loss_value = session.run([optimizer, loss], feed_dict_train)\n",
    "    if i % 10 == 0:\n",
    "        print(\"Loss: \", loss_value)\n",
    "\n",
    "score = session.run(accuracy, feed_dict_test)\n",
    "print(\"Accuracy: {:.3f}\".format(score))"
   ]
  },
  {
   "cell_type": "code",
   "execution_count": 28,
   "metadata": {},
   "outputs": [
    {
     "data": {
      "text/plain": [
       "'./model/model'"
      ]
     },
     "execution_count": 28,
     "metadata": {},
     "output_type": "execute_result"
    }
   ],
   "source": [
    "saver.save(session, './model/model')"
   ]
  },
  {
   "cell_type": "code",
   "execution_count": null,
   "metadata": {},
   "outputs": [],
   "source": [
    "session.close()"
   ]
  }
 ],
 "metadata": {
  "kernelspec": {
   "display_name": "Python 2",
   "language": "python",
   "name": "python2"
  },
  "language_info": {
   "codemirror_mode": {
    "name": "ipython",
    "version": 2
   },
   "file_extension": ".py",
   "mimetype": "text/x-python",
   "name": "python",
   "nbconvert_exporter": "python",
   "pygments_lexer": "ipython2",
   "version": "2.7.12"
  }
 },
 "nbformat": 4,
 "nbformat_minor": 2
}
