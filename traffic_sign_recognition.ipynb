{
 "cells": [
  {
   "cell_type": "markdown",
   "metadata": {},
   "source": [
    "# Traffic sign recognition using Tensorflow "
   ]
  },
  {
   "cell_type": "markdown",
   "metadata": {},
   "source": [
    "For training I am using German sing dataset which can be found here: http://benchmark.ini.rub.de/"
   ]
  },
  {
   "cell_type": "code",
   "execution_count": null,
   "metadata": {},
   "outputs": [],
   "source": [
    "import os\n",
    "import csv\n",
    "import skimage.data\n",
    "import skimage.transform\n",
    "import matplotlib\n",
    "import matplotlib.pyplot as plt\n",
    "import numpy as np"
   ]
  },
  {
   "cell_type": "markdown",
   "metadata": {},
   "source": [
    "Setting path to train and test data."
   ]
  },
  {
   "cell_type": "code",
   "execution_count": null,
   "metadata": {},
   "outputs": [],
   "source": [
    "ROOT_PATH = \"./datasets\"\n",
    "TRAIN_DATA_DIR = os.path.join(ROOT_PATH, \"training_images/Final_Training/Images/\")\n",
    "TEST_DATA_DIR = os.path.join(ROOT_PATH, \"testing_dataset/Final_Test/Images/\")\n",
    "IMAGE_WIDTH = 32\n",
    "IMAGE_LENGTH = 32"
   ]
  },
  {
   "cell_type": "markdown",
   "metadata": {},
   "source": [
    "Loading train data."
   ]
  },
  {
   "cell_type": "code",
   "execution_count": null,
   "metadata": {},
   "outputs": [],
   "source": [
    "def load_train_data(data_dir):\n",
    "    directories = [d for d in os.listdir(data_dir)\n",
    "                  if os.path.isdir(os.path.join(data_dir, d))]\n",
    "    labels = []\n",
    "    images = []\n",
    "    for d in directories:\n",
    "        path = data_dir + d + '/'\n",
    "        csv_file = open(path + 'GT-' + d + '.csv')\n",
    "        temp_labels, temp_images = get_data(csv_file, path)\n",
    "        labels += temp_labels\n",
    "        images += temp_images\n",
    "        \n",
    "    return labels, images"
   ]
  },
  {
   "cell_type": "markdown",
   "metadata": {},
   "source": [
    "Loading test data."
   ]
  },
  {
   "cell_type": "code",
   "execution_count": null,
   "metadata": {},
   "outputs": [],
   "source": [
    "def load_test_data(data_dir):\n",
    "    csv_file = open(data_dir + 'GT-final_test.csv')\n",
    "        \n",
    "    return get_data(csv_file, data_dir)"
   ]
  },
  {
   "cell_type": "code",
   "execution_count": null,
   "metadata": {},
   "outputs": [],
   "source": [
    "def get_data(csv_file, path):\n",
    "    images = []\n",
    "    labels = []\n",
    "    reader = csv.reader(csv_file, delimiter=';')\n",
    "    reader.next()\n",
    "    for row in reader:\n",
    "        images.append(skimage.transform.resize(plt.imread(path + row[0]), (IMAGE_WIDTH, IMAGE_LENGTH)))\n",
    "        labels.append(int(row[7]))\n",
    "    csv_file.close()\n",
    "    return labels, images"
   ]
  },
  {
   "cell_type": "code",
   "execution_count": null,
   "metadata": {},
   "outputs": [],
   "source": [
    "labels, images = load_train_data(TRAIN_DATA_DIR)\n",
    "test_labels, test_images = load_test_data(TEST_DATA_DIR)"
   ]
  },
  {
   "cell_type": "code",
   "execution_count": null,
   "metadata": {},
   "outputs": [],
   "source": [
    "print(\"Total training images {0}\".format(len(images)))\n",
    "print(\"Total testing images {0}\".format(len(test_images)))"
   ]
  },
  {
   "cell_type": "markdown",
   "metadata": {},
   "source": [
    "Creating bar chart for dataset Visualization."
   ]
  },
  {
   "cell_type": "code",
   "execution_count": null,
   "metadata": {},
   "outputs": [],
   "source": [
    "data = {x:labels.count(x) for x in labels}.values()\n",
    "\n",
    "plt.figure(figsize=(20, 10))\n",
    "\n",
    "y_pos = np.arange(len(data))\n",
    "\n",
    "plt.bar(y_pos, data, align='center', alpha = 0.5)\n",
    "plt.xticks(y_pos, y_pos)\n",
    "plt.axis('tight')\n",
    "plt.ylabel(\"Number of examples\")\n",
    "plt.title(\"Training dataset\")\n",
    "plt.show()"
   ]
  },
  {
   "cell_type": "markdown",
   "metadata": {},
   "source": [
    "Resize and normalize images."
   ]
  },
  {
   "cell_type": "code",
   "execution_count": null,
   "metadata": {},
   "outputs": [],
   "source": [
    "def normalize(image):\n",
    "    return (image - image.min()) / (image.max() - image.min())"
   ]
  },
  {
   "cell_type": "markdown",
   "metadata": {},
   "source": [
    "Difference between normal image and a normalized one."
   ]
  },
  {
   "cell_type": "code",
   "execution_count": null,
   "metadata": {},
   "outputs": [],
   "source": [
    "plt.figure(figsize = (10, 10))\n",
    "plt.subplot(1, 2, 1)\n",
    "plt.axis('off')\n",
    "plt.title(\"Normal image\")  \n",
    "plt.imshow(images[1800])\n",
    "plt.subplot(1, 2, 2)\n",
    "plt.axis('off')\n",
    "plt.title(\"Normalized image\")\n",
    "plt.imshow(normalize(images[1800]))\n",
    "plt.show()"
   ]
  },
  {
   "cell_type": "code",
   "execution_count": null,
   "metadata": {},
   "outputs": [],
   "source": []
  }
 ],
 "metadata": {
  "kernelspec": {
   "display_name": "Python 2",
   "language": "python",
   "name": "python2"
  },
  "language_info": {
   "codemirror_mode": {
    "name": "ipython",
    "version": 2
   },
   "file_extension": ".py",
   "mimetype": "text/x-python",
   "name": "python",
   "nbconvert_exporter": "python",
   "pygments_lexer": "ipython2",
   "version": "2.7.12"
  }
 },
 "nbformat": 4,
 "nbformat_minor": 2
}
