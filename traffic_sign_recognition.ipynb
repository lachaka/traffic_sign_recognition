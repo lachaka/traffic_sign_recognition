{
 "cells": [
  {
   "cell_type": "markdown",
   "metadata": {},
   "source": [
    "# Traffic sign recognition using Tensorflow "
   ]
  },
  {
   "cell_type": "markdown",
   "metadata": {},
   "source": [
    "For training I am using German sign dataset which can be found here: http://benchmark.ini.rub.de/"
   ]
  },
  {
   "cell_type": "code",
   "execution_count": 1,
   "metadata": {},
   "outputs": [
    {
     "name": "stderr",
     "output_type": "stream",
     "text": [
      "Using TensorFlow backend.\n"
     ]
    }
   ],
   "source": [
    "import os\n",
    "import random\n",
    "import csv\n",
    "import skimage.data\n",
    "import skimage.transform\n",
    "import matplotlib\n",
    "import matplotlib.pyplot as plt\n",
    "import numpy as np\n",
    "import tensorflow as tf\n",
    "import time\n",
    "from keras.preprocessing.image import ImageDataGenerator\n",
    "import cv2"
   ]
  },
  {
   "cell_type": "markdown",
   "metadata": {},
   "source": [
    "Setting path to train and test data."
   ]
  },
  {
   "cell_type": "code",
   "execution_count": 2,
   "metadata": {},
   "outputs": [],
   "source": [
    "ROOT_PATH = \"./datasets\"\n",
    "TRAIN_DATA_DIR = os.path.join(ROOT_PATH, \"training_images/Final_Training/Images/\")\n",
    "TEST_DATA_DIR = os.path.join(ROOT_PATH, \"testing_dataset/Final_Test/Images/\")\n",
    "IMAGE_WIDTH = 32\n",
    "IMAGE_LENGTH = 32\n",
    "BATCH_SIZE = 128"
   ]
  },
  {
   "cell_type": "markdown",
   "metadata": {},
   "source": [
    "Loading train data."
   ]
  },
  {
   "cell_type": "code",
   "execution_count": 14,
   "metadata": {},
   "outputs": [],
   "source": [
    "def load_train_data(data_dir):\n",
    "    directories = [d for d in os.listdir(data_dir)\n",
    "                  if os.path.isdir(os.path.join(data_dir, d))]\n",
    "    labels = []\n",
    "    images = []\n",
    "            \n",
    "    for d in directories:\n",
    "        label_dir = os.path.join(data_dir, d)\n",
    "        label_file_names = [os.path.join(label_dir, f)\n",
    "                        for f in os.listdir(label_dir) if f.endswith(\".ppm\")]\n",
    "        \n",
    "        for image in label_file_names:\n",
    "            images.append(skimage.transform.resize(plt.imread(image), (IMAGE_WIDTH, IMAGE_LENGTH)))\n",
    "            labels.append(int(d))\n",
    "            \n",
    "    return labels, images"
   ]
  },
  {
   "cell_type": "markdown",
   "metadata": {},
   "source": [
    "Loading test data."
   ]
  },
  {
   "cell_type": "code",
   "execution_count": 15,
   "metadata": {},
   "outputs": [],
   "source": [
    "def load_test_data(data_dir):\n",
    "    csv_file = open(data_dir + 'GT-final_test.csv')\n",
    "    \n",
    "    images = []\n",
    "    labels = []\n",
    "    \n",
    "    reader = csv.reader(csv_file, delimiter=';')\n",
    "    reader.next()\n",
    "    for row in reader:\n",
    "        images.append(skimage.transform.resize(plt.imread(data_dir + row[0]), (IMAGE_WIDTH, IMAGE_LENGTH)))\n",
    "        labels.append(int(row[7]))\n",
    "    csv_file.close()\n",
    "    return labels, images"
   ]
  },
  {
   "cell_type": "code",
   "execution_count": 16,
   "metadata": {},
   "outputs": [],
   "source": [
    "train_labels, train_images = load_train_data(TRAIN_DATA_DIR)\n",
    "val_labels, val_images = load_test_data(TEST_DATA_DIR)"
   ]
  },
  {
   "cell_type": "code",
   "execution_count": 17,
   "metadata": {},
   "outputs": [],
   "source": [
    "train_labels_arr = np.array(train_labels)\n",
    "train_images_arr = np.array(train_images)"
   ]
  },
  {
   "cell_type": "code",
   "execution_count": 18,
   "metadata": {},
   "outputs": [],
   "source": [
    "val_labels_arr = np.array(val_labels)\n",
    "val_images_arr = np.array(val_images)"
   ]
  },
  {
   "cell_type": "code",
   "execution_count": null,
   "metadata": {},
   "outputs": [],
   "source": [
    "datagen = ImageDataGenerator(rotation_range=17,\n",
    "                             width_shift_range=0.1,\n",
    "                             height_shift_range=0.1,\n",
    "                             shear_range=0.2,\n",
    "                             zoom_range=0.2,\n",
    "                             horizontal_flip=False)"
   ]
  },
  {
   "cell_type": "code",
   "execution_count": null,
   "metadata": {},
   "outputs": [],
   "source": [
    "for keras_gen_images, keras_gen_labels in datagen.flow(train_images_arr, train_labels_arr,\n",
    "                                             batch_size=len(train_labels), shuffle=False):\n",
    "    break"
   ]
  },
  {
   "cell_type": "code",
   "execution_count": null,
   "metadata": {},
   "outputs": [],
   "source": [
    "def generate_blur_images(train_images):\n",
    "    blur_images = []\n",
    "\n",
    "    images_count = len(train_images)\n",
    "\n",
    "    for i in range(images_count):\n",
    "        blur_images.append(cv2.GaussianBlur(train_images[i], (5, 5), 0.7))\n",
    "    \n",
    "    return np.array(blur_images)\n",
    "\n",
    "blur_images = generate_blur_images(train_images)"
   ]
  },
  {
   "cell_type": "code",
   "execution_count": null,
   "metadata": {},
   "outputs": [],
   "source": [
    "index = random.sample(xrange(len(train_images_arr)), 9)"
   ]
  },
  {
   "cell_type": "code",
   "execution_count": null,
   "metadata": {},
   "outputs": [],
   "source": [
    "plt.figure(figsize=(6,6))\n",
    "\n",
    "for i in range(0, 9):\n",
    "    plt.subplot(331 + i)\n",
    "    plt.imshow(train_images_arr[index[i]])\n",
    "plt.savefig('expore_training_data.png')\n",
    "plt.show()\n",
    "\n",
    "plt.figure(figsize=(6,6))\n",
    "\n",
    "for i in range(0, 9):\n",
    "    plt.subplot(331 + i)\n",
    "    plt.imshow(keras_gen_images[index[i]])\n",
    "plt.savefig('expore_keras_data.png')\n",
    "plt.show()"
   ]
  },
  {
   "cell_type": "code",
   "execution_count": null,
   "metadata": {},
   "outputs": [],
   "source": [
    "train_labels_arr = np.concatenate((train_labels_arr, np.array(train_labels), keras_gen_labels))\n",
    "train_images_arr = np.concatenate((train_images_arr, blur_images, keras_gen_images))"
   ]
  },
  {
   "cell_type": "markdown",
   "metadata": {},
   "source": [
    "Creating bar chart for dataset Visualization."
   ]
  },
  {
   "cell_type": "code",
   "execution_count": null,
   "metadata": {},
   "outputs": [],
   "source": [
    "def draw_data_chart(train_labels, save_name):\n",
    "    data = np.unique(train_labels_arr, return_counts=True)[1]\n",
    "   \n",
    "    plt.figure(figsize=(20, 10))\n",
    "\n",
    "    y_pos = np.arange(len(data))\n",
    "\n",
    "    plt.bar(y_pos, data, align='center', alpha = 0.5)\n",
    "    plt.xticks(y_pos, y_pos)\n",
    "    plt.axis('tight')\n",
    "    plt.savefig(save_name)\n",
    "    plt.show()"
   ]
  },
  {
   "cell_type": "code",
   "execution_count": null,
   "metadata": {},
   "outputs": [],
   "source": [
    "draw_data_chart(train_labels_arr, './chart_figures/train_data.png')\n",
    "draw_data_chart(val_labels_arr, './chart_figures/test_data.png')"
   ]
  },
  {
   "cell_type": "code",
   "execution_count": 5,
   "metadata": {},
   "outputs": [
    {
     "ename": "NameError",
     "evalue": "name 'train_labels_arr' is not defined",
     "output_type": "error",
     "traceback": [
      "\u001b[0;31m---------------------------------------------------------------------------\u001b[0m",
      "\u001b[0;31mNameError\u001b[0m                                 Traceback (most recent call last)",
      "\u001b[0;32m<ipython-input-5-c1f1a1eb96db>\u001b[0m in \u001b[0;36m<module>\u001b[0;34m()\u001b[0m\n\u001b[1;32m     30\u001b[0m \u001b[0;34m\u001b[0m\u001b[0m\n\u001b[1;32m     31\u001b[0m \u001b[0;34m\u001b[0m\u001b[0m\n\u001b[0;32m---> 32\u001b[0;31m     \u001b[0mlogits\u001b[0m \u001b[0;34m=\u001b[0m \u001b[0mtf\u001b[0m\u001b[0;34m.\u001b[0m\u001b[0mlayers\u001b[0m\u001b[0;34m.\u001b[0m\u001b[0mdense\u001b[0m\u001b[0;34m(\u001b[0m\u001b[0mdense\u001b[0m\u001b[0;34m,\u001b[0m \u001b[0mlen\u001b[0m\u001b[0;34m(\u001b[0m\u001b[0mset\u001b[0m\u001b[0;34m(\u001b[0m\u001b[0mtrain_labels_arr\u001b[0m\u001b[0;34m)\u001b[0m\u001b[0;34m)\u001b[0m\u001b[0;34m,\u001b[0m \u001b[0mtf\u001b[0m\u001b[0;34m.\u001b[0m\u001b[0mnn\u001b[0m\u001b[0;34m.\u001b[0m\u001b[0melu\u001b[0m\u001b[0;34m)\u001b[0m\u001b[0;34m\u001b[0m\u001b[0m\n\u001b[0m\u001b[1;32m     33\u001b[0m \u001b[0;34m\u001b[0m\u001b[0m\n\u001b[1;32m     34\u001b[0m     \u001b[0mpredicted\u001b[0m \u001b[0;34m=\u001b[0m \u001b[0mtf\u001b[0m\u001b[0;34m.\u001b[0m\u001b[0mnn\u001b[0m\u001b[0;34m.\u001b[0m\u001b[0msoftmax\u001b[0m\u001b[0;34m(\u001b[0m\u001b[0mlogits\u001b[0m\u001b[0;34m)\u001b[0m\u001b[0;34m\u001b[0m\u001b[0m\n",
      "\u001b[0;31mNameError\u001b[0m: name 'train_labels_arr' is not defined"
     ]
    }
   ],
   "source": [
    "def conv2d(input_layer, filters, padding):\n",
    "    return tf.layers.conv2d(\n",
    "        inputs=input_layer,\n",
    "        filters=filters,\n",
    "        kernel_size=(5, 5),\n",
    "        padding=padding,\n",
    "        activation=tf.nn.elu)\n",
    "\n",
    "def pooling(input_layer):\n",
    "    return tf.layers.max_pooling2d(\n",
    "        inputs=input_layer, \n",
    "        pool_size=(2, 2), \n",
    "        strides=(2, 2),\n",
    "        padding='same')\n",
    "\n",
    "with tf.device('/device:GPU:0'):    \n",
    "    images = tf.placeholder(tf.float32, [None, IMAGE_WIDTH, IMAGE_LENGTH, 3], name = \"images\")\n",
    "    labels = tf.placeholder(tf.int64, [None])\n",
    "    \n",
    "    conv1 = conv2d(images, 12, 'valid')\n",
    "    pool1 = pooling(conv1)\n",
    "    \n",
    "    conv2 = conv2d(pool1, 24, 'valid')\n",
    "    pool2 = pooling(conv2)\n",
    "    \n",
    "    flat = tf.layers.flatten(pool2)\n",
    "    dropout = tf.layers.dropout(inputs=flat, rate=0.5)\n",
    "    \n",
    "    dense = tf.layers.dense(dropout, 512, tf.nn.elu)\n",
    "    \n",
    "    \n",
    "    logits = tf.layers.dense(dense, len(set(train_labels_arr)), tf.nn.elu)\n",
    "\n",
    "    predicted = tf.nn.softmax(logits)\n",
    "    predicted_labels = tf.argmax(predicted, 1, name=\"prediction\")\n",
    "    \n",
    "    cross_entropy = tf.nn.sparse_softmax_cross_entropy_with_logits(logits = logits,\n",
    "                                                                   labels = labels)\n",
    "    loss = tf.reduce_mean(cross_entropy)\n",
    "\n",
    "    optimizer = tf.train.AdamOptimizer(learning_rate=0.001).minimize(loss)\n",
    "\n",
    "    correct_prediction = tf.equal(predicted_labels, labels)\n",
    "    accuracy = tf.reduce_mean(tf.cast(correct_prediction, tf.float32))\n",
    "\n",
    "    init = tf.global_variables_initializer()\n",
    "\n",
    "with tf.device('/cpu:0'):\n",
    "    confusion_matrix = tf.confusion_matrix(labels=labels, predictions=predicted_labels,\n",
    "                                          num_classes=len(set(train_labels_arr)),dtype=tf.int64)"
   ]
  },
  {
   "cell_type": "code",
   "execution_count": 28,
   "metadata": {},
   "outputs": [],
   "source": [
    "saver = tf.train.Saver()\n",
    "session = tf.Session()\n",
    "session.run(init)"
   ]
  },
  {
   "cell_type": "code",
   "execution_count": 21,
   "metadata": {},
   "outputs": [],
   "source": [
    "def validation(val_images, val_labels):\n",
    "    val_acc = session.run(accuracy,\n",
    "                    {images: val_images,\n",
    "                    labels: val_labels})\n",
    "    \n",
    "    return val_acc"
   ]
  },
  {
   "cell_type": "code",
   "execution_count": 22,
   "metadata": {},
   "outputs": [],
   "source": [
    "def training_log(steps, loss, val_acc, training_time):\n",
    "    print('Steps: {}'.format(steps))\n",
    "    print('Loss: {0} Validation accuracy: {1:.2f}%'\n",
    "          .format(loss, val_acc * 100))\n",
    "    minutes, seconds = divmod(training_time, 60)\n",
    "    hours, minutes = divmod(minutes, 60)\n",
    "    print('Traning time: {0:02.0f}:{1:02.0f}:{2:05.2f}\\n'.format(hours, minutes, seconds))  "
   ]
  },
  {
   "cell_type": "code",
   "execution_count": 62,
   "metadata": {},
   "outputs": [],
   "source": [
    "def show_confusion_matrix(conf_matrix):\n",
    "    plt.figure(figsize=(10,10))\n",
    "\n",
    "    plt.imshow(conf_matrix)\n",
    "    plt.colorbar()\n",
    "    #plt.show()"
   ]
  },
  {
   "cell_type": "code",
   "execution_count": null,
   "metadata": {},
   "outputs": [],
   "source": [
    "def draw_graph(training_data):\n",
    "    steps, loss, accuracy = zip(*training_data)\n",
    "    fig = plt.figure(figsize=(10,10))\n",
    "    plt.subplot(211)\n",
    "    plt.ylabel('Loss')\n",
    "    plt.title('Validation Loss')\n",
    "    plt.xlabel('Steps')\n",
    "    \n",
    "    plt.plot(steps, loss)\n",
    "    plt.subplots_adjust(hspace=1)\n",
    "    \n",
    "    plt.subplot(212)\n",
    "    plt.ylabel('Accuracy')\n",
    "    plt.title('Validation Accuracy')\n",
    "    plt.xlabel('Steps')\n",
    "    plt.plot(steps, accuracy)\n",
    "    \n",
    "    plt.savefig('train_log.png')\n",
    "    plt.show()"
   ]
  },
  {
   "cell_type": "code",
   "execution_count": 27,
   "metadata": {},
   "outputs": [],
   "source": [
    "np.set_printoptions(threshold=np.nan)"
   ]
  },
  {
   "cell_type": "code",
   "execution_count": 63,
   "metadata": {
    "scrolled": true
   },
   "outputs": [
    {
     "name": "stdout",
     "output_type": "stream",
     "text": [
      "Steps: 0\n",
      "Loss: 0.00652692560107 Validation accuracy: 91.40%\n",
      "Traning time: 00:00:01.42\n",
      "\n",
      "Steps: 50\n",
      "Loss: 0.0116662830114 Validation accuracy: 91.66%\n",
      "Traning time: 00:00:06.75\n",
      "\n",
      "Steps: 100\n",
      "Loss: 0.04881554842 Validation accuracy: 92.50%\n",
      "Traning time: 00:00:11.54\n",
      "\n"
     ]
    },
    {
     "data": {
      "image/png": "[encoded data removed]",
      "text/plain": [
       "<matplotlib.figure.Figure at 0x7f6cdd56e910>"
      ]
     },
     "metadata": {},
     "output_type": "display_data"
    }
   ],
   "source": [
    "def train_model(training_images, training_labels, val_images, val_labels, steps):\n",
    "    t_start = time.time()\n",
    "    prev_val_acc = 0\n",
    "    prev_loss = 1\n",
    "    training_data = []\n",
    "    conf_matrix = []\n",
    "    for i in range(steps + 1):\n",
    "        indexes = np.random.choice(np.arange(len(training_images)), BATCH_SIZE, replace = False)\n",
    "        batch_images = training_images[indexes]\n",
    "        batch_labels = training_labels[indexes]\n",
    "        loss_value = session.run([optimizer, loss],\n",
    "                                 {images: batch_images,\n",
    "                                 labels: batch_labels})[1]\n",
    "        conf_matrix = session.run(confusion_matrix,\n",
    "                                 {images: batch_images,\n",
    "                                 labels: batch_labels})\n",
    "        \n",
    "        if (i % 50 == 0):\n",
    "            val_acc = validation(val_images, val_labels)\n",
    "            training_log(i, loss_value, val_acc, time.time() - t_start)\n",
    "            training_data.append((i, loss_value, val_acc))\n",
    "            \n",
    "            if (prev_val_acc < val_acc and prev_loss > loss_value):\n",
    "                prev_val_acc = val_acc\n",
    "                prev_loss = loss_value\n",
    "                saver.save(session, './model2/model')\n",
    "    show_confusion_matrix(conf_matrix)\n",
    "    draw_graph(training_data)\n",
    "          \n",
    "train_model(train_images_arr, train_labels_arr, val_images_arr, val_labels_arr, 100)"
   ]
  },
  {
   "cell_type": "code",
   "execution_count": 25,
   "metadata": {},
   "outputs": [],
   "source": [
    "session.close()"
   ]
  },
  {
   "cell_type": "code",
   "execution_count": null,
   "metadata": {},
   "outputs": [],
   "source": []
  }
 ],
 "metadata": {
  "kernelspec": {
   "display_name": "Python 2",
   "language": "python",
   "name": "python2"
  },
  "language_info": {
   "codemirror_mode": {
    "name": "ipython",
    "version": 2
   },
   "file_extension": ".py",
   "mimetype": "text/x-python",
   "name": "python",
   "nbconvert_exporter": "python",
   "pygments_lexer": "ipython2",
   "version": "2.7.12"
  }
 },
 "nbformat": 4,
 "nbformat_minor": 2
}
