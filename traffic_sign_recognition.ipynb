{
 "cells": [
  {
   "cell_type": "markdown",
   "metadata": {},
   "source": [
    "# Traffic sign recognition using Tensorflow "
   ]
  },
  {
   "cell_type": "markdown",
   "metadata": {},
   "source": [
    "For training I am using German sign dataset which can be found here: http://benchmark.ini.rub.de/"
   ]
  },
  {
   "cell_type": "code",
   "execution_count": 3,
   "metadata": {},
   "outputs": [],
   "source": [
    "import os\n",
    "import csv\n",
    "import skimage.data\n",
    "import skimage.transform\n",
    "import matplotlib\n",
    "import matplotlib.pyplot as plt\n",
    "import numpy as np\n",
    "import tensorflow as tf"
   ]
  },
  {
   "cell_type": "markdown",
   "metadata": {},
   "source": [
    "Setting path to train and test data."
   ]
  },
  {
   "cell_type": "code",
   "execution_count": 4,
   "metadata": {},
   "outputs": [],
   "source": [
    "ROOT_PATH = \"./datasets\"\n",
    "TRAIN_DATA_DIR = os.path.join(ROOT_PATH, \"training_images/Final_Training/Images/\")\n",
    "TEST_DATA_DIR = os.path.join(ROOT_PATH, \"testing_dataset/Final_Test/Images/\")\n",
    "IMAGE_WIDTH = 32\n",
    "IMAGE_LENGTH = 32"
   ]
  },
  {
   "cell_type": "markdown",
   "metadata": {},
   "source": [
    "Loading train data."
   ]
  },
  {
   "cell_type": "code",
   "execution_count": 5,
   "metadata": {},
   "outputs": [],
   "source": [
    "def load_train_data(data_dir):\n",
    "    directories = [d for d in os.listdir(data_dir)\n",
    "                  if os.path.isdir(os.path.join(data_dir, d))]\n",
    "    labels = []\n",
    "    images = []\n",
    "    for d in directories:\n",
    "        path = data_dir + d + '/'\n",
    "        csv_file = open(path + 'GT-' + d + '.csv')\n",
    "        temp_labels, temp_images = get_data(csv_file, path)\n",
    "        labels += temp_labels\n",
    "        images += temp_images\n",
    "        \n",
    "    return labels, images"
   ]
  },
  {
   "cell_type": "markdown",
   "metadata": {},
   "source": [
    "Loading test data."
   ]
  },
  {
   "cell_type": "code",
   "execution_count": 6,
   "metadata": {},
   "outputs": [],
   "source": [
    "def load_test_data(data_dir):\n",
    "    csv_file = open(data_dir + 'GT-final_test.csv')\n",
    "        \n",
    "    return get_data(csv_file, data_dir)"
   ]
  },
  {
   "cell_type": "code",
   "execution_count": 7,
   "metadata": {},
   "outputs": [],
   "source": [
    "def get_data(csv_file, path):\n",
    "    images = []\n",
    "    labels = []\n",
    "    reader = csv.reader(csv_file, delimiter=';')\n",
    "    reader.next()\n",
    "    for row in reader:\n",
    "        images.append(skimage.transform.resize(plt.imread(path + row[0]), (IMAGE_WIDTH, IMAGE_LENGTH)))\n",
    "        labels.append(int(row[7]))\n",
    "    csv_file.close()\n",
    "    return labels, images"
   ]
  },
  {
   "cell_type": "code",
   "execution_count": 8,
   "metadata": {},
   "outputs": [],
   "source": [
    "labels, images = load_train_data(TRAIN_DATA_DIR)\n",
    "test_labels, test_images = load_test_data(TEST_DATA_DIR)"
   ]
  },
  {
   "cell_type": "code",
   "execution_count": 9,
   "metadata": {},
   "outputs": [
    {
     "name": "stdout",
     "output_type": "stream",
     "text": [
      "Total training images 42890\n",
      "Total testing images 12630\n"
     ]
    }
   ],
   "source": [
    "print(\"Total training images {0}\".format(len(images)))\n",
    "print(\"Total testing images {0}\".format(len(test_images)))"
   ]
  },
  {
   "cell_type": "markdown",
   "metadata": {},
   "source": [
    "Creating bar chart for dataset Visualization."
   ]
  },
  {
   "cell_type": "code",
   "execution_count": null,
   "metadata": {},
   "outputs": [],
   "source": [
    "data = {x:labels.count(x) for x in labels}.values()\n",
    "\n",
    "plt.figure(figsize=(20, 10))\n",
    "\n",
    "y_pos = np.arange(len(data))\n",
    "\n",
    "plt.bar(y_pos, data, align='center', alpha = 0.5)\n",
    "plt.xticks(y_pos, y_pos)\n",
    "plt.axis('tight')\n",
    "plt.ylabel(\"Number of examples\")\n",
    "plt.title(\"Training dataset\")\n",
    "plt.show()"
   ]
  },
  {
   "cell_type": "markdown",
   "metadata": {},
   "source": [
    "Resize and normalize images."
   ]
  },
  {
   "cell_type": "code",
   "execution_count": null,
   "metadata": {},
   "outputs": [],
   "source": [
    "def normalize(image):\n",
    "    return (image - image.min()) / (image.max() - image.min())"
   ]
  },
  {
   "cell_type": "markdown",
   "metadata": {},
   "source": [
    "Difference between normal image and a normalized one."
   ]
  },
  {
   "cell_type": "code",
   "execution_count": null,
   "metadata": {},
   "outputs": [],
   "source": [
    "plt.figure(figsize = (10, 10))\n",
    "plt.subplot(1, 2, 1)\n",
    "plt.axis('off')\n",
    "plt.title(\"Normal image\")  \n",
    "plt.imshow(images[1800])\n",
    "plt.subplot(1, 2, 2)\n",
    "plt.axis('off')\n",
    "plt.title(\"Normalized image\")\n",
    "plt.imshow(normalize(images[1800]))\n",
    "plt.show()"
   ]
  },
  {
   "cell_type": "code",
   "execution_count": 10,
   "metadata": {},
   "outputs": [
    {
     "name": "stdout",
     "output_type": "stream",
     "text": [
      "WARNING:tensorflow:From /usr/local/lib/python2.7/dist-packages/tensorflow/python/util/tf_should_use.py:107: initialize_all_variables (from tensorflow.python.ops.variables) is deprecated and will be removed after 2017-03-02.\n",
      "Instructions for updating:\n",
      "Use `tf.global_variables_initializer` instead.\n"
     ]
    }
   ],
   "source": [
    "with tf.device('/device:GPU:0'):\n",
    "    images_ph = tf.placeholder(tf.float32, [None, IMAGE_WIDTH, IMAGE_LENGTH, 3])\n",
    "    labels_ph = tf.placeholder(tf.int64, [None])\n",
    "\n",
    "    images_flat = tf.contrib.layers.flatten(images_ph)\n",
    "\n",
    "    logits = tf.contrib.layers.fully_connected(images_flat, 44, tf.nn.elu)\n",
    "\n",
    "    predicted = tf.nn.softmax(logits)\n",
    "    predicted_labels = tf.argmax(predicted, 1)\n",
    "\n",
    "    cross_entropy = tf.nn.sparse_softmax_cross_entropy_with_logits(logits = logits,\n",
    "                                                                   labels = labels_ph)\n",
    "    loss = tf.reduce_mean(cross_entropy)\n",
    "\n",
    "    optimizer = tf.train.AdamOptimizer(learning_rate=0.001).minimize(loss)\n",
    "\n",
    "    correct_prediction = tf.equal(predicted_labels, labels_ph)\n",
    "    accuracy = tf.reduce_mean(tf.cast(correct_prediction, tf.float32))\n",
    "\n",
    "    init = tf.initialize_all_variables()"
   ]
  },
  {
   "cell_type": "code",
   "execution_count": 13,
   "metadata": {},
   "outputs": [],
   "source": [
    "saver = tf.train.Saver()\n",
    "session = tf.Session()\n",
    "session.run(init)"
   ]
  },
  {
   "cell_type": "code",
   "execution_count": 14,
   "metadata": {},
   "outputs": [],
   "source": [
    "labels_arr = np.array(labels)\n",
    "images_arr = np.array(images)"
   ]
  },
  {
   "cell_type": "code",
   "execution_count": 15,
   "metadata": {},
   "outputs": [],
   "source": [
    "feed_dict_train = {images_ph: images_arr,\n",
    "             labels_ph: labels_arr}\n",
    "feed_dict_test = {images_ph: test_images,\n",
    "             labels_ph: test_labels}"
   ]
  },
  {
   "cell_type": "code",
   "execution_count": 18,
   "metadata": {},
   "outputs": [
    {
     "name": "stdout",
     "output_type": "stream",
     "text": [
      "('Loss: ', [None, 2.0058527])\n",
      "('Loss: ', [None, 1.9541161])\n",
      "('Loss: ', [None, 1.907316])\n",
      "('Loss: ', [None, 1.8645781])\n",
      "('Loss: ', [None, 1.8249115])\n",
      "('Loss: ', [None, 1.78714])\n",
      "('Loss: ', [None, 1.7520248])\n",
      "('Loss: ', [None, 1.7198185])\n",
      "('Loss: ', [None, 1.6897899])\n",
      "('Loss: ', [None, 1.6616679])\n",
      "('Loss: ', [None, 1.6352246])\n",
      "('Loss: ', [None, 1.6101419])\n",
      "('Loss: ', [None, 1.585796])\n",
      "('Loss: ', [None, 1.5624427])\n",
      "('Loss: ', [None, 1.5405869])\n",
      "('Loss: ', [None, 1.5199044])\n",
      "('Loss: ', [None, 1.5001645])\n",
      "('Loss: ', [None, 1.4807529])\n",
      "('Loss: ', [None, 1.4534292])\n",
      "('Loss: ', [None, 1.4288048])\n",
      "('Loss: ', [None, 1.4081073])\n",
      "('Loss: ', [None, 1.3898587])\n",
      "('Loss: ', [None, 1.3730344])\n",
      "('Loss: ', [None, 1.3572102])\n",
      "('Loss: ', [None, 1.3422335])\n",
      "('Loss: ', [None, 1.327931])\n",
      "('Loss: ', [None, 1.3142248])\n",
      "('Loss: ', [None, 1.3010418])\n",
      "('Loss: ', [None, 1.2883035])\n",
      "('Loss: ', [None, 1.2759398])\n",
      "('Loss: ', [None, 1.2639649])\n",
      "('Loss: ', [None, 1.252404])\n",
      "('Loss: ', [None, 1.2412611])\n",
      "('Loss: ', [None, 1.2305025])\n",
      "('Loss: ', [None, 1.2200871])\n",
      "('Loss: ', [None, 1.2099433])\n",
      "('Loss: ', [None, 1.195124])\n",
      "('Loss: ', [None, 1.1843734])\n",
      "('Loss: ', [None, 1.1702305])\n",
      "('Loss: ', [None, 1.1587825])\n",
      "('Loss: ', [None, 1.1448973])\n",
      "('Loss: ', [None, 1.1336342])\n",
      "('Loss: ', [None, 1.1231433])\n",
      "('Loss: ', [None, 1.1135541])\n",
      "('Loss: ', [None, 1.1043496])\n",
      "('Loss: ', [None, 1.095264])\n",
      "('Loss: ', [None, 1.0750328])\n",
      "('Loss: ', [None, 1.060656])\n",
      "('Loss: ', [None, 1.0460136])\n",
      "('Loss: ', [None, 1.0344791])\n",
      "('Loss: ', [None, 1.0244468])\n",
      "('Loss: ', [None, 1.0153332])\n",
      "('Loss: ', [None, 1.0069267])\n",
      "('Loss: ', [None, 0.99902695])\n",
      "('Loss: ', [None, 0.99151766])\n",
      "('Loss: ', [None, 0.98432708])\n",
      "('Loss: ', [None, 0.97740805])\n",
      "('Loss: ', [None, 0.97072601])\n",
      "('Loss: ', [None, 0.96425557])\n",
      "('Loss: ', [None, 0.95797682])\n",
      "('Loss: ', [None, 0.9518736])\n",
      "('Loss: ', [None, 0.94593281])\n",
      "('Loss: ', [None, 0.94014341])\n",
      "('Loss: ', [None, 0.93449587])\n",
      "('Loss: ', [None, 0.92898184])\n",
      "('Loss: ', [None, 0.92359436])\n",
      "('Loss: ', [None, 0.91832668])\n",
      "('Loss: ', [None, 0.91317296])\n",
      "('Loss: ', [None, 0.90812814])\n",
      "('Loss: ', [None, 0.90318727])\n",
      "('Loss: ', [None, 0.89834595])\n",
      "('Loss: ', [None, 0.89360011])\n",
      "('Loss: ', [None, 0.88894576])\n",
      "('Loss: ', [None, 0.88437921])\n",
      "('Loss: ', [None, 0.879897])\n",
      "('Loss: ', [None, 0.87549573])\n",
      "('Loss: ', [None, 0.87117189])\n",
      "('Loss: ', [None, 0.86692208])\n",
      "('Loss: ', [None, 0.86274189])\n",
      "('Loss: ', [None, 0.85862601])\n",
      "('Loss: ', [None, 0.85456598])\n",
      "('Loss: ', [None, 0.85054225])\n",
      "('Loss: ', [None, 0.84648794])\n",
      "('Loss: ', [None, 0.84170455])\n",
      "('Loss: ', [None, 0.82782662])\n",
      "('Loss: ', [None, 0.81614375])\n",
      "('Loss: ', [None, 0.80874383])\n",
      "('Loss: ', [None, 0.80332339])\n",
      "('Loss: ', [None, 0.79858577])\n",
      "('Loss: ', [None, 0.7942223])\n",
      "('Loss: ', [None, 0.79010707])\n",
      "('Loss: ', [None, 0.78617847])\n",
      "('Loss: ', [None, 0.78238988])\n",
      "('Loss: ', [None, 0.77871656])\n",
      "('Loss: ', [None, 0.77514124])\n",
      "('Loss: ', [None, 0.77165186])\n",
      "('Loss: ', [None, 0.76823944])\n",
      "('Loss: ', [None, 0.76489705])\n",
      "('Loss: ', [None, 0.76161927])\n",
      "('Loss: ', [None, 0.75840169])\n",
      "('Loss: ', [None, 0.7552405])\n",
      "('Loss: ', [None, 0.75213265])\n",
      "('Loss: ', [None, 0.74907535])\n",
      "('Loss: ', [None, 0.74606639])\n",
      "('Loss: ', [None, 0.74310356])\n",
      "('Loss: ', [None, 0.74018508])\n",
      "('Loss: ', [None, 0.73730928])\n",
      "('Loss: ', [None, 0.73447466])\n",
      "('Loss: ', [None, 0.7316798])\n",
      "('Loss: ', [None, 0.72892344])\n",
      "('Loss: ', [None, 0.72620445])\n",
      "('Loss: ', [None, 0.72352165])\n",
      "('Loss: ', [None, 0.72087401])\n",
      "('Loss: ', [None, 0.71826035])\n",
      "('Loss: ', [None, 0.71568012])\n",
      "('Loss: ', [None, 0.71313208])\n",
      "('Loss: ', [None, 0.71061546])\n",
      "('Loss: ', [None, 0.70812953])\n",
      "('Loss: ', [None, 0.70567352])\n",
      "('Loss: ', [None, 0.70324653])\n",
      "('Loss: ', [None, 0.7008481])\n",
      "('Loss: ', [None, 0.69847757])\n",
      "('Loss: ', [None, 0.69613421])\n",
      "('Loss: ', [None, 0.69381738])\n",
      "('Loss: ', [None, 0.69152653])\n",
      "('Loss: ', [None, 0.6892612])\n",
      "('Loss: ', [None, 0.6870206])\n",
      "('Loss: ', [None, 0.68480432])\n",
      "('Loss: ', [None, 0.68261188])\n",
      "('Loss: ', [None, 0.68044263])\n",
      "('Loss: ', [None, 0.67829633])\n",
      "('Loss: ', [None, 0.67617232])\n",
      "('Loss: ', [None, 0.6740703])\n",
      "('Loss: ', [None, 0.67198968])\n",
      "('Loss: ', [None, 0.6699301])\n",
      "('Loss: ', [None, 0.66789109])\n",
      "('Loss: ', [None, 0.66587216])\n",
      "('Loss: ', [None, 0.66387302])\n",
      "('Loss: ', [None, 0.66189319])\n",
      "('Loss: ', [None, 0.65993202])\n",
      "('Loss: ', [None, 0.65798938])\n",
      "('Loss: ', [None, 0.65606529])\n",
      "('Loss: ', [None, 0.65415937])\n",
      "('Loss: ', [None, 0.65227133])\n",
      "('Loss: ', [None, 0.65040076])\n",
      "('Loss: ', [None, 0.64854753])\n",
      "('Loss: ', [None, 0.64671123])\n",
      "('Loss: ', [None, 0.6448915])\n",
      "('Loss: ', [None, 0.64308816])\n",
      "('Loss: ', [None, 0.64130086])\n",
      "('Loss: ', [None, 0.63952935])\n",
      "('Loss: ', [None, 0.63777333])\n",
      "('Loss: ', [None, 0.63603264])\n",
      "('Loss: ', [None, 0.63430685])\n",
      "('Loss: ', [None, 0.6325959])\n",
      "('Loss: ', [None, 0.63089937])\n",
      "('Loss: ', [None, 0.62921715])\n",
      "('Loss: ', [None, 0.62754893])\n",
      "('Loss: ', [None, 0.62589455])\n",
      "('Loss: ', [None, 0.62425375])\n",
      "('Loss: ', [None, 0.62262625])\n",
      "('Loss: ', [None, 0.62101185])\n",
      "('Loss: ', [None, 0.6194104])\n",
      "('Loss: ', [None, 0.61782163])\n",
      "('Loss: ', [None, 0.61624539])\n",
      "('Loss: ', [None, 0.61468142])\n",
      "('Loss: ', [None, 0.61312944])\n",
      "('Loss: ', [None, 0.61158931])\n",
      "('Loss: ', [None, 0.61006081])\n",
      "('Loss: ', [None, 0.60854381])\n",
      "('Loss: ', [None, 0.60703832])\n",
      "('Loss: ', [None, 0.60554409])\n",
      "('Loss: ', [None, 0.60406119])\n",
      "('Loss: ', [None, 0.60258931])\n",
      "('Loss: ', [None, 0.60112828])\n",
      "('Loss: ', [None, 0.59967798])\n",
      "('Loss: ', [None, 0.59823829])\n",
      "('Loss: ', [None, 0.59680897])\n",
      "('Loss: ', [None, 0.5953899])\n",
      "('Loss: ', [None, 0.59398085])\n",
      "('Loss: ', [None, 0.59258187])\n",
      "('Loss: ', [None, 0.59119266])\n",
      "('Loss: ', [None, 0.58981329])\n",
      "('Loss: ', [None, 0.58844352])\n",
      "('Loss: ', [None, 0.58708322])\n",
      "('Loss: ', [None, 0.58573234])\n",
      "('Loss: ', [None, 0.58439076])\n",
      "('Loss: ', [None, 0.5830583])\n",
      "('Loss: ', [None, 0.5817349])\n",
      "('Loss: ', [None, 0.58042032])\n",
      "('Loss: ', [None, 0.5791145])\n",
      "('Loss: ', [None, 0.57781738])\n",
      "('Loss: ', [None, 0.57652873])\n",
      "('Loss: ', [None, 0.57524854])\n",
      "('Loss: ', [None, 0.5739767])\n",
      "('Loss: ', [None, 0.57271302])\n",
      "('Loss: ', [None, 0.57145762])\n",
      "('Loss: ', [None, 0.5702104])\n",
      "('Loss: ', [None, 0.56897122])\n",
      "('Loss: ', [None, 0.56774002])\n",
      "('Loss: ', [None, 0.5665167])\n",
      "Accuracy: 0.780\n"
     ]
    }
   ],
   "source": [
    "for i in range(2001):\n",
    "    loss_value = session.run([optimizer, loss], feed_dict_train)\n",
    "    if i % 10 == 0:\n",
    "        print(\"Loss: \", loss_value)\n",
    "\n",
    "score = session.run(accuracy, feed_dict_test)\n",
    "print(\"Accuracy: {:.3f}\".format(score))"
   ]
  },
  {
   "cell_type": "code",
   "execution_count": 19,
   "metadata": {},
   "outputs": [
    {
     "data": {
      "text/plain": [
       "'./model/model.ckpt'"
      ]
     },
     "execution_count": 19,
     "metadata": {},
     "output_type": "execute_result"
    }
   ],
   "source": [
    "saver.save(session, './model/model.ckpt')"
   ]
  },
  {
   "cell_type": "code",
   "execution_count": null,
   "metadata": {},
   "outputs": [],
   "source": [
    "session.close()"
   ]
  },
  {
   "cell_type": "code",
   "execution_count": null,
   "metadata": {},
   "outputs": [],
   "source": []
  }
 ],
 "metadata": {
  "kernelspec": {
   "display_name": "Python 2",
   "language": "python",
   "name": "python2"
  },
  "language_info": {
   "codemirror_mode": {
    "name": "ipython",
    "version": 2
   },
   "file_extension": ".py",
   "mimetype": "text/x-python",
   "name": "python",
   "nbconvert_exporter": "python",
   "pygments_lexer": "ipython2",
   "version": "2.7.12"
  }
 },
 "nbformat": 4,
 "nbformat_minor": 2
}
