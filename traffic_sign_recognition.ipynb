{
 "cells": [
  {
   "cell_type": "markdown",
   "metadata": {},
   "source": [
    "# Traffic sign recognition using Tensorflow "
   ]
  },
  {
   "cell_type": "markdown",
   "metadata": {},
   "source": [
    "For training I am using German sign dataset which can be found here: http://benchmark.ini.rub.de/"
   ]
  },
  {
   "cell_type": "code",
   "execution_count": 1,
   "metadata": {},
   "outputs": [
    {
     "name": "stderr",
     "output_type": "stream",
     "text": [
      "Using TensorFlow backend.\n"
     ]
    }
   ],
   "source": [
    "import os\n",
    "import csv\n",
    "import skimage.data\n",
    "import skimage.transform\n",
    "import matplotlib\n",
    "import matplotlib.pyplot as plt\n",
    "import numpy as np\n",
    "import tensorflow as tf\n",
    "import time\n",
    "from keras.preprocessing.image import ImageDataGenerator\n",
    "import cv2"
   ]
  },
  {
   "cell_type": "markdown",
   "metadata": {},
   "source": [
    "Setting path to train and test data."
   ]
  },
  {
   "cell_type": "code",
   "execution_count": 2,
   "metadata": {},
   "outputs": [],
   "source": [
    "ROOT_PATH = \"./datasets\"\n",
    "TRAIN_DATA_DIR = os.path.join(ROOT_PATH, \"training_images/Final_Training/Images/\")\n",
    "TEST_DATA_DIR = os.path.join(ROOT_PATH, \"testing_dataset/Final_Test/Images/\")\n",
    "IMAGE_WIDTH = 32\n",
    "IMAGE_LENGTH = 32\n",
    "BATCH_SIZE = 128"
   ]
  },
  {
   "cell_type": "markdown",
   "metadata": {},
   "source": [
    "Loading train data."
   ]
  },
  {
   "cell_type": "code",
   "execution_count": 3,
   "metadata": {},
   "outputs": [],
   "source": [
    "def load_train_data(data_dir):\n",
    "    directories = [d for d in os.listdir(data_dir)\n",
    "                  if os.path.isdir(os.path.join(data_dir, d))]\n",
    "    labels = []\n",
    "    images = []\n",
    "            \n",
    "    for d in directories:\n",
    "        label_dir = os.path.join(data_dir, d)\n",
    "        label_file_names = [os.path.join(label_dir, f)\n",
    "                        for f in os.listdir(label_dir) if f.endswith(\".ppm\")]\n",
    "        \n",
    "        for image in label_file_names:\n",
    "            images.append(skimage.transform.resize(plt.imread(image), (IMAGE_WIDTH, IMAGE_LENGTH)))\n",
    "            labels.append(int(d))\n",
    "            \n",
    "    return labels, images"
   ]
  },
  {
   "cell_type": "markdown",
   "metadata": {},
   "source": [
    "Loading test data."
   ]
  },
  {
   "cell_type": "code",
   "execution_count": 4,
   "metadata": {},
   "outputs": [],
   "source": [
    "def load_test_data(data_dir):\n",
    "    csv_file = open(data_dir + 'GT-final_test.csv')\n",
    "    \n",
    "    images = []\n",
    "    labels = []\n",
    "    \n",
    "    reader = csv.reader(csv_file, delimiter=';')\n",
    "    reader.next()\n",
    "    for row in reader:\n",
    "        images.append(skimage.transform.resize(plt.imread(data_dir + row[0]), (IMAGE_WIDTH, IMAGE_LENGTH)))\n",
    "        labels.append(int(row[7]))\n",
    "    csv_file.close()\n",
    "    return labels, images"
   ]
  },
  {
   "cell_type": "code",
   "execution_count": 5,
   "metadata": {},
   "outputs": [],
   "source": [
    "train_labels, train_images = load_train_data(TRAIN_DATA_DIR)\n",
    "val_labels, val_images = load_test_data(TEST_DATA_DIR)"
   ]
  },
  {
   "cell_type": "code",
   "execution_count": 6,
   "metadata": {},
   "outputs": [],
   "source": [
    "train_labels_arr = np.array(train_labels)\n",
    "train_images_arr = np.array(train_images)"
   ]
  },
  {
   "cell_type": "code",
   "execution_count": 7,
   "metadata": {},
   "outputs": [],
   "source": [
    "val_labels_arr = np.array(val_labels)\n",
    "val_images_arr = np.array(val_images)"
   ]
  },
  {
   "cell_type": "code",
   "execution_count": null,
   "metadata": {},
   "outputs": [],
   "source": [
    "datagen = ImageDataGenerator(rotation_range=17,\n",
    "                             width_shift_range=0.1,\n",
    "                             height_shift_range=0.1,\n",
    "                             shear_range=0.2,\n",
    "                             zoom_range=0.2,\n",
    "                             horizontal_flip=False)"
   ]
  },
  {
   "cell_type": "code",
   "execution_count": null,
   "metadata": {},
   "outputs": [],
   "source": [
    "for keras_gen_images, keras_gen_labels in datagen.flow(train_images_arr, train_labels_arr,\n",
    "                                             batch_size=len(train_labels), shuffle=False):\n",
    "    break"
   ]
  },
  {
   "cell_type": "code",
   "execution_count": null,
   "metadata": {},
   "outputs": [],
   "source": [
    "#I will delete this\n",
    "plt.figure(figsize=(6,6))\n",
    "\n",
    "plt.subplot(330 + 1)\n",
    "plt.imshow(train_images[1000])\n",
    "    #show the plot\n",
    "plt.show()"
   ]
  },
  {
   "cell_type": "code",
   "execution_count": null,
   "metadata": {},
   "outputs": [],
   "source": [
    "def generate_blur_image(img):\n",
    "    return cv2.GaussianBlur(img, (5, 5), 0)"
   ]
  },
  {
   "cell_type": "code",
   "execution_count": null,
   "metadata": {},
   "outputs": [],
   "source": [
    "blur_images = []\n",
    "blur_labels = []\n",
    "\n",
    "images_count = len(train_labels)\n",
    "\n",
    "for i in range(images_count):\n",
    "    blur_images.append(generate_blur_image(train_images[i]))\n",
    "    blur_labels.append(train_labels[i])"
   ]
  },
  {
   "cell_type": "code",
   "execution_count": null,
   "metadata": {},
   "outputs": [],
   "source": [
    "train_labels_arr = np.concatenate((train_labels_arr, np.array(blur_labels), keras_gen_labels))\n",
    "train_images_arr = np.concatenate((train_images_arr, np.array(blur_images), keras_gen_images))"
   ]
  },
  {
   "cell_type": "markdown",
   "metadata": {},
   "source": [
    "Creating bar chart for dataset Visualization."
   ]
  },
  {
   "cell_type": "code",
   "execution_count": null,
   "metadata": {},
   "outputs": [],
   "source": [
    "def draw_data_chart(train_labels):\n",
    "    data = np.unique(train_labels_arr, return_counts=True)[1]\n",
    "   \n",
    "    plt.figure(figsize=(20, 10))\n",
    "\n",
    "    y_pos = np.arange(len(data))\n",
    "\n",
    "    plt.bar(y_pos, data, align='center', alpha = 0.5)\n",
    "    plt.xticks(y_pos, y_pos)\n",
    "    plt.axis('tight')\n",
    "    plt.xlabel('Class number')\n",
    "    plt.ylabel('Number of examples')\n",
    "    plt.title('Training dataset')\n",
    "    plt.savefig('train_data_chart.png')\n",
    "    plt.show()\n",
    "\n",
    "draw_data_chart(train_labels_arr)"
   ]
  },
  {
   "cell_type": "code",
   "execution_count": null,
   "metadata": {},
   "outputs": [],
   "source": [
    "def conv2d(input_layer, filters, padding):\n",
    "    return tf.layers.conv2d(\n",
    "        inputs=input_layer,\n",
    "        filters=filters,\n",
    "        kernel_size=(5, 5),\n",
    "        padding=padding,\n",
    "        activation=tf.nn.elu)\n",
    "\n",
    "def pooling(input_layer):\n",
    "    return tf.layers.max_pooling2d(\n",
    "        inputs=input_layer, \n",
    "        pool_size=(2, 2), \n",
    "        strides=(2, 2),\n",
    "        padding='same')\n",
    "\n",
    "with tf.device('/device:GPU:0'):    \n",
    "    images = tf.placeholder(tf.float32, [None, IMAGE_WIDTH, IMAGE_LENGTH, 3], name = \"images\")\n",
    "    labels = tf.placeholder(tf.int64, [None])\n",
    "    \n",
    "    conv1 = conv2d(images, 12, 'valid')\n",
    "    print(conv1)\n",
    "    pool1 = pooling(conv1)\n",
    "    print(pool1)\n",
    "\n",
    "    conv2 = conv2d(pool1, 24, 'valid')\n",
    "    print(conv2)\n",
    "    pool2 = pooling(conv2)\n",
    "    print(pool2)\n",
    "    flat = tf.layers.flatten(pool2)\n",
    "    dropout = tf.layers.dropout(inputs=flat, rate=0.5)\n",
    "    \n",
    "    f1 = tf.layers.dense(dropout, 300, tf.nn.elu)\n",
    "    \n",
    "    \n",
    "    logits = tf.layers.dense(f1, len(set(train_labels_arr)), tf.nn.elu)\n",
    "\n",
    "    predicted = tf.nn.softmax(logits)\n",
    "    predicted_labels = tf.argmax(predicted, 1, name=\"prediction\")\n",
    "\n",
    "    #confusion_matrix = tf.confusion_matrix(labels=labels, predictions=predicted_labels,\n",
    "    #                                      num_classes=len(set(train_labels_arr)),dtype=tf.int64)\n",
    "    \n",
    "    cross_entropy = tf.nn.sparse_softmax_cross_entropy_with_logits(logits = logits,\n",
    "                                                                   labels = labels)\n",
    "    loss = tf.reduce_mean(cross_entropy)\n",
    "\n",
    "    optimizer = tf.train.AdamOptimizer(learning_rate=0.001).minimize(loss)\n",
    "\n",
    "    correct_prediction = tf.equal(predicted_labels, labels)\n",
    "    accuracy = tf.reduce_mean(tf.cast(correct_prediction, tf.float32))\n",
    "\n",
    "    init = tf.global_variables_initializer()"
   ]
  },
  {
   "cell_type": "code",
   "execution_count": null,
   "metadata": {},
   "outputs": [],
   "source": [
    "saver = tf.train.Saver()\n",
    "session = tf.Session()\n",
    "session.run(init)"
   ]
  },
  {
   "cell_type": "code",
   "execution_count": null,
   "metadata": {},
   "outputs": [],
   "source": [
    "def validation(val_images, val_labels):\n",
    "    val_acc = session.run(accuracy,\n",
    "                    {images: val_images,\n",
    "                    labels: val_labels})\n",
    "    \n",
    "    return val_acc"
   ]
  },
  {
   "cell_type": "code",
   "execution_count": null,
   "metadata": {},
   "outputs": [],
   "source": [
    "def training_log(steps, loss, val_acc, training_time):\n",
    "    print('Steps: {}'.format(steps))\n",
    "    print('Loss: {0} Validation accuracy: {1:.2f}%'\n",
    "          .format(loss, val_acc * 100))\n",
    "    minutes, seconds = divmod(training_time, 60)\n",
    "    hours, minutes = divmod(minutes, 60)\n",
    "    print('Traning time: {0:02.0f}:{1:02.0f}:{2:05.2f}\\n'.format(hours, minutes, seconds))  "
   ]
  },
  {
   "cell_type": "code",
   "execution_count": null,
   "metadata": {},
   "outputs": [],
   "source": [
    "def show_confusion_matrix(conf_matrix):\n",
    "    print(conf_matrix)"
   ]
  },
  {
   "cell_type": "code",
   "execution_count": null,
   "metadata": {},
   "outputs": [],
   "source": [
    "def draw_graph(training_data):\n",
    "    steps, loss, accuracy = zip(*training_data)\n",
    "    fig = plt.figure(figsize=(10,10))\n",
    "    plt.subplot(211)\n",
    "    plt.ylabel('Loss')\n",
    "    plt.title('Validation Loss')\n",
    "    plt.xlabel('Steps')\n",
    "    \n",
    "    plt.plot(steps, loss)\n",
    "    plt.subplots_adjust(hspace=1)\n",
    "    \n",
    "    plt.subplot(212)\n",
    "    plt.ylabel('Accuracy')\n",
    "    plt.title('Validation Accuracy')\n",
    "    plt.xlabel('Steps')\n",
    "    plt.plot(steps, accuracy)\n",
    "    \n",
    "    plt.savefig('train_log_chart.png')\n",
    "    plt.show()"
   ]
  },
  {
   "cell_type": "code",
   "execution_count": null,
   "metadata": {
    "scrolled": true
   },
   "outputs": [],
   "source": [
    "def train_model(training_images, training_labels, val_images, val_labels, steps):\n",
    "    t_start = time.time()\n",
    "    prev_val_acc = 0\n",
    "    training_data = []\n",
    "    \n",
    "    for i in range(steps + 1):\n",
    "        indexes = np.random.choice(np.arange(len(training_images)), BATCH_SIZE, replace = False)\n",
    "        batch_images = training_images[indexes]\n",
    "        batch_labels = training_labels[indexes]\n",
    "        loss_value = session.run([optimizer, loss],\n",
    "                                 {images: batch_images,\n",
    "                                 labels: batch_labels})[1]\n",
    "        if (i % 50 == 0):\n",
    "            val_acc = validation(val_images, val_labels)\n",
    "            training_log(i, loss_value, val_acc, time.time() - t_start)\n",
    "            training_data.append((i, loss_value, val_acc))\n",
    "            \n",
    "            show_confusion_matrix(session.run(confusion_matrix,\n",
    "                                             #{images: batch_images,\n",
    "                                             #labels: batch_labels}))\n",
    "            if (prev_val_acc < val_acc and i % 500 == 0):\n",
    "                prev_val_acc = val_acc\n",
    "                saver.save(session, './model/model')\n",
    "    draw_graph(training_data)\n",
    "          \n",
    "train_model(train_images_arr, train_labels_arr, val_images_arr, val_labels_arr, 100)"
   ]
  },
  {
   "cell_type": "code",
   "execution_count": null,
   "metadata": {},
   "outputs": [],
   "source": [
    "session.close()"
   ]
  },
  {
   "cell_type": "code",
   "execution_count": null,
   "metadata": {},
   "outputs": [],
   "source": []
  }
 ],
 "metadata": {
  "kernelspec": {
   "display_name": "Python 2",
   "language": "python",
   "name": "python2"
  },
  "language_info": {
   "codemirror_mode": {
    "name": "ipython",
    "version": 2
   },
   "file_extension": ".py",
   "mimetype": "text/x-python",
   "name": "python",
   "nbconvert_exporter": "python",
   "pygments_lexer": "ipython2",
   "version": "2.7.12"
  }
 },
 "nbformat": 4,
 "nbformat_minor": 2
}
