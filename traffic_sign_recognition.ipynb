{
 "cells": [
  {
   "cell_type": "markdown",
   "metadata": {},
   "source": [
    "# Traffic sign recognition using Tensorflow "
   ]
  },
  {
   "cell_type": "markdown",
   "metadata": {},
   "source": [
    "For training I am using German sign dataset which can be found here: http://benchmark.ini.rub.de/"
   ]
  },
  {
   "cell_type": "code",
   "execution_count": 33,
   "metadata": {},
   "outputs": [],
   "source": [
    "import os\n",
    "import csv\n",
    "import skimage.data\n",
    "import skimage.transform\n",
    "import matplotlib\n",
    "import matplotlib.pyplot as plt\n",
    "import numpy as np\n",
    "import tensorflow as tf\n",
    "import time"
   ]
  },
  {
   "cell_type": "markdown",
   "metadata": {},
   "source": [
    "Setting path to train and test data."
   ]
  },
  {
   "cell_type": "code",
   "execution_count": 34,
   "metadata": {},
   "outputs": [],
   "source": [
    "ROOT_PATH = \"./datasets\"\n",
    "TRAIN_DATA_DIR = os.path.join(ROOT_PATH, \"training_images/Final_Training/Images/\")\n",
    "TEST_DATA_DIR = os.path.join(ROOT_PATH, \"testing_dataset/Final_Test/Images/\")\n",
    "IMAGE_WIDTH = 32\n",
    "IMAGE_LENGTH = 32\n",
    "BATCH_SIZE = 100"
   ]
  },
  {
   "cell_type": "markdown",
   "metadata": {},
   "source": [
    "Loading train data."
   ]
  },
  {
   "cell_type": "code",
   "execution_count": 35,
   "metadata": {},
   "outputs": [],
   "source": [
    "def load_train_data(data_dir):\n",
    "    directories = [d for d in os.listdir(data_dir)\n",
    "                  if os.path.isdir(os.path.join(data_dir, d))]\n",
    "    labels = []\n",
    "    images = []\n",
    "    for d in directories:\n",
    "        path = data_dir + d + '/'\n",
    "        csv_file = open(path + 'GT-' + d + '.csv')\n",
    "        temp_labels, temp_images = get_data(csv_file, path)\n",
    "        labels += temp_labels\n",
    "        images += temp_images\n",
    "        \n",
    "    return labels, images"
   ]
  },
  {
   "cell_type": "markdown",
   "metadata": {},
   "source": [
    "Loading test data."
   ]
  },
  {
   "cell_type": "code",
   "execution_count": 36,
   "metadata": {},
   "outputs": [],
   "source": [
    "def load_test_data(data_dir):\n",
    "    csv_file = open(data_dir + 'GT-final_test.csv')\n",
    "        \n",
    "    return get_data(csv_file, data_dir)"
   ]
  },
  {
   "cell_type": "code",
   "execution_count": 37,
   "metadata": {},
   "outputs": [],
   "source": [
    "def get_data(csv_file, path):\n",
    "    images = []\n",
    "    labels = []\n",
    "    reader = csv.reader(csv_file, delimiter=';')\n",
    "    reader.next()\n",
    "    for row in reader:\n",
    "        images.append(skimage.transform.resize(plt.imread(path + row[0]), (IMAGE_WIDTH, IMAGE_LENGTH)))\n",
    "        labels.append(int(row[7]))\n",
    "    csv_file.close()\n",
    "    return labels, images"
   ]
  },
  {
   "cell_type": "code",
   "execution_count": null,
   "metadata": {},
   "outputs": [],
   "source": [
    "train_labels, train_images = load_train_data(TRAIN_DATA_DIR)\n",
    "val_labels, val_images = load_test_data(TEST_DATA_DIR)"
   ]
  },
  {
   "cell_type": "code",
   "execution_count": null,
   "metadata": {},
   "outputs": [],
   "source": [
    "print(\"Total training images {}\".format(len(images)))\n",
    "print(\"Total testing images {}\".format(len(test_images)))"
   ]
  },
  {
   "cell_type": "markdown",
   "metadata": {},
   "source": [
    "Creating bar chart for dataset Visualization."
   ]
  },
  {
   "cell_type": "code",
   "execution_count": null,
   "metadata": {},
   "outputs": [],
   "source": [
    "data = {x:train_labels.count(x) for x in train_labels}.values()\n",
    "\n",
    "plt.figure(figsize=(20, 10))\n",
    "\n",
    "y_pos = np.arange(len(data))\n",
    "\n",
    "plt.bar(y_pos, data, align='center', alpha = 0.5)\n",
    "plt.xticks(y_pos, y_pos)\n",
    "plt.axis('tight')\n",
    "plt.ylabel('Number of examples')\n",
    "plt.title('Training dataset')\n",
    "plt.show()"
   ]
  },
  {
   "cell_type": "code",
   "execution_count": null,
   "metadata": {},
   "outputs": [],
   "source": [
    "def lerelu(x):\n",
    "    return tf.maximum(x, x * 0.02)"
   ]
  },
  {
   "cell_type": "code",
   "execution_count": null,
   "metadata": {},
   "outputs": [],
   "source": [
    "def conv2d(input_layer, filters):\n",
    "    return tf.layers.conv2d(\n",
    "        inputs=input_layer,\n",
    "        filters=filters,\n",
    "        kernel_size=(5, 5),\n",
    "        padding='same',\n",
    "        activation=tf.nn.elu)\n",
    "\n",
    "def pooling(input_layer):\n",
    "    return tf.layers.max_pooling2d(\n",
    "        inputs=input_layer, \n",
    "        pool_size=(2, 2), \n",
    "   EPOCH     strides=(2, 2),\n",
    "        padding='same')\n",
    "\n",
    "with tf.device('/device:GPU:0'):    \n",
    "    images = tf.placeholder(tf.float32, [None, IMAGE_WIDTH, IMAGE_LENGTH, 3])\n",
    "    labels = tf.placeholder(tf.int64, [None])\n",
    "    \n",
    "    conv1 = conv2d(images, 8)\n",
    "    pool1 = pooling(conv1)\n",
    "    \n",
    "    conv2 = conv2d(pool1, 12)\n",
    "    pool2 = pooling(conv2)\n",
    "    \n",
    "    conv3 = conv2d(pool2, 16)\n",
    "    pool3 = pooling(conv3)\n",
    "   \n",
    "    flat = tf.contrib.layers.flatten(pool3)\n",
    "    \n",
    "    logits = tf.contrib.layers.fully_connected(flat, 44, tf.nn.elu)\n",
    "\n",
    "    predicted = tf.nn.softmax(logits)\n",
    "    predicted_labels = tf.argmax(predicted, 1)\n",
    "   \n",
    "    cross_entropy = tf.nn.sparse_softmax_cross_entropy_with_logits(logits = logits,\n",
    "                                                                   labels = labels)\n",
    "    loss = tf.reduce_mean(cross_entropy)\n",
    "\n",
    "    optimizer = tf.train.AdamOptimizer(learning_rate=0.001).minimize(loss)\n",
    "\n",
    "    correct_prediction = tf.equal(predicted_labels, labels)\n",
    "    accuracy = tf.reduce_mean(tf.cast(correct_prediction, tf.float32))\n",
    "\n",
    "    init = tf.global_variables_initializer()"
   ]
  },
  {
   "cell_type": "code",
   "execution_count": null,
   "metadata": {},
   "outputs": [],
   "source": [
    "session = tf.Session()\n",
    "session.run(init)"
   ]
  },
  {
   "cell_type": "code",
   "execution_count": null,
   "metadata": {},
   "outputs": [],
   "source": [
    "train_labels_arr = np.array(train_labels)\n",
    "train_images_arr = np.array(train_images)"
   ]
  },
  {
   "cell_type": "code",
   "execution_count": null,
   "metadata": {},
   "outputs": [],
   "source": [
    "def validation(train_images, train_labels, val_images, val_labels):\n",
    "    train_acc = session.run(accuracy,\n",
    "                    {images: train_images,\n",
    "                    labels: train_labels})\n",
    "    val_acc = session.run(accuracy,\n",
    "                    {images: val_images,\n",
    "                    labels: val_labels})\n",
    "    return train_acc, val_acc"
   ]
  },
  {
   "cell_type": "code",
   "execution_count": null,
   "metadata": {
    "scrolled": true
   },
   "outputs": [],
   "source": [
    "def train_model(training_images, training_labels, val_images, val_labels, steps):\n",
    "    t_start = time.time()\n",
    "    \n",
    "    for i in range(steps + 1):\n",
    "        indexes = np.random.choice(np.arange(len(train_images)), BATCH_SIZE, replace = False)\n",
    "        batch_images = train_images_arr[indexes]\n",
    "        batch_labels = train_labels_arr[indexes]\n",
    "        loss_value = session.run([optimizer, loss],\n",
    "                                 {images: batch_images,\n",
    "                                 labels: batch_labels})[1]\n",
    "        if (steps % 50 == 0):\n",
    "            training_acc, val_acc = validation(batch_images, batch_labels, val_images, val_labels)\n",
    "            \n",
    "train_model(train_images, train_labels, val_images, val_labels, 100)\n"
   ]
  },
  {
   "cell_type": "code",
   "execution_count": 32,
   "metadata": {},
   "outputs": [],
   "source": [
    "session.close()"
   ]
  }
 ],
 "metadata": {
  "kernelspec": {
   "display_name": "Python 2",
   "language": "python",
   "name": "python2"
  }
 },
 "nbformat": 4,
 "nbformat_minor": 2
}
