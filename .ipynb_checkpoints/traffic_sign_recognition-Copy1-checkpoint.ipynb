{
 "cells": [
  {
   "cell_type": "markdown",
   "metadata": {},
   "source": [
    "# Traffic sign recognition using Tensorflow "
   ]
  },
  {
   "cell_type": "markdown",
   "metadata": {},
   "source": [
    "For training I am using German sing dataset which can be found here: http://benchmark.ini.rub.de/"
   ]
  },
  {
   "cell_type": "code",
   "execution_count": 3,
   "metadata": {},
   "outputs": [],
   "source": [
    "import os\n",
    "import skimage.data\n",
    "import skimage.transform\n",
    "import matplotlib\n",
    "import matplotlib.pyplot as plt\n",
    "import numpy as np"
   ]
  },
  {
   "cell_type": "markdown",
   "metadata": {},
   "source": [
    "Setting path to train and test data."
   ]
  },
  {
   "cell_type": "code",
   "execution_count": 4,
   "metadata": {},
   "outputs": [],
   "source": [
    "ROOT_PATH = \"./datasets\"\n",
    "train_data_dir = os.path.join(ROOT_PATH, \"training_images/Final_Training/Images/\")\n",
    "test_data_dir = os.path.join(ROOT_PATH, \"testing_dataset/Final_Test/Images\")"
   ]
  },
  {
   "cell_type": "markdown",
   "metadata": {},
   "source": [
    "Loading train data."
   ]
  },
  {
   "cell_type": "code",
   "execution_count": 5,
   "metadata": {},
   "outputs": [],
   "source": [
    "def load_train_data(data_dir):\n",
    "    directories = [d for d in os.listdir(data_dir)\n",
    "                  if os.path.isdir(os.path.join(data_dir, d))]\n",
    "    \n",
    "    labels = []\n",
    "    images = []\n",
    "    for d in directories:\n",
    "        label_dir = os.path.join(data_dir, d)\n",
    "        file_names = [os.path.join(label_dir, f)\n",
    "                     for f in os.listdir(label_dir) if f.endswith(\".ppm\")]\n",
    "        for f in file_names:\n",
    "            labels.append(int(d))\n",
    "            images.append(skimage.data.imread(f))\n",
    "            \n",
    "    return labels, images\n",
    "\n",
    "labels, images = load_train_data(train_data_dir)"
   ]
  },
  {
   "cell_type": "markdown",
   "metadata": {},
   "source": [
    "Loading test data."
   ]
  },
  {
   "cell_type": "code",
   "execution_count": 6,
   "metadata": {},
   "outputs": [],
   "source": [
    "def load_test_data(data_dir):\n",
    "    test_labels = []\n",
    "    test_images = []\n",
    "\n",
    "    file_names = [os.path.join(data_dir, f)\n",
    "                  for f in os.listdir(data_dir) if f.endswith(\".ppm\")]\n",
    "    for f in file_names:\n",
    "        test_labels.append(int(os.path.splitext(os.path.basename(f))[0]))\n",
    "        test_images.append(skimage.data.imread(f))\n",
    "            \n",
    "    return test_labels, test_images\n",
    "\n",
    "test_labels, test_images = load_test_data(test_data_dir)"
   ]
  },
  {
   "cell_type": "code",
   "execution_count": 7,
   "metadata": {},
   "outputs": [
    {
     "name": "stdout",
     "output_type": "stream",
     "text": [
      "Total training images 39209\n",
      "Total testing images 12630\n"
     ]
    }
   ],
   "source": [
    "print(\"Total training images {0}\".format(len(images)))\n",
    "print(\"Total testing images {0}\".format(len(test_images)))"
   ]
  },
  {
   "cell_type": "markdown",
   "metadata": {},
   "source": [
    "Creating bar chart for visualizating the data set."
   ]
  },
  {
   "cell_type": "code",
   "execution_count": 8,
   "metadata": {},
   "outputs": [
    {
     "data": {
      "image/png": "[encoded data removed]",
      "text/plain": [
       "<matplotlib.figure.Figure at 0x7fd101bfb390>"
      ]
     },
     "metadata": {},
     "output_type": "display_data"
    }
   ],
   "source": [
    "data = {x:labels.count(x) for x in labels}.values()\n",
    "\n",
    "plt.figure(figsize=(20, 10))\n",
    "\n",
    "y_pos = np.arange(len(data))\n",
    "\n",
    "plt.bar(y_pos, data, align='center', alpha = 0.5)\n",
    "plt.xticks(y_pos, y_pos)\n",
    "plt.axis('tight')\n",
    "plt.ylabel(\"Number of examples\")\n",
    "plt.title(\"Training dataset\")\n",
    "plt.show()"
   ]
  }
 ],
 "metadata": {
  "kernelspec": {
   "display_name": "Python 2",
   "language": "python",
   "name": "python2"
  },
  "language_info": {
   "codemirror_mode": {
    "name": "ipython",
    "version": 2
   },
   "file_extension": ".py",
   "mimetype": "text/x-python",
   "name": "python",
   "nbconvert_exporter": "python",
   "pygments_lexer": "ipython2",
   "version": "2.7.12"
  }
 },
 "nbformat": 4,
 "nbformat_minor": 2
}
